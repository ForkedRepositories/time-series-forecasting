{
 "cells": [
  {
   "cell_type": "markdown",
   "metadata": {},
   "source": [
    "# Aurecon Exemplar Forum 2020: \n",
    "**Machine Learning and Data Analytics (90 mins)**\n",
    "\n",
    "This notebook shows the reader how to use the open data from AEMO to build predictive models with python and machine learning packages. \n",
    "\n",
    "The main content covers the following five parts.\n",
    " \n",
    "General Introduction <--- Slaven 5min\n",
    "\n",
    "0. Checking List <--- Chris 5min\n",
    "1. Case Introduction  <--- Chris 5min\n",
    "2. Data Exploration   <--- Srimal 10min\n",
    "3. Data Analysis      <--- Alex 15min\n",
    "4. Data Preparation amd Modelling <--- Chris 15min\n",
    " - Linear model: LM                      <--- Srimal 15min\n",
    " - Multi-layer Precetptrons: MLP         <-- Chris 15min\n",
    " - Recurrent Neural Networks: RNN        <--- Alex 15min\n",
    " - Long-Short Memory Networks: LSTM      <--- Alex 15min\t\n",
    "Summary <-- Chris 5min\n",
    "\n",
    "\n",
    "\n",
    "##### Copyright 2020 Aureon Data Analytic and Risk Team Authors."
   ]
  },
  {
   "cell_type": "markdown",
   "metadata": {},
   "source": [
    "## 0. Checking List (Chris)\n",
    "\n",
    "This notebook is a demo showing how to use python and machine learning tools for practices. \n",
    "\n",
    "Reader should have read through the [README.md](../README.md) file and related [document](../Documents) for the preparations. \n",
    "\n",
    "<!-- ![Anaconda + Python + TensorFlow](./Images/figure_notebook_01_python.png ) -->\n",
    "![Anaconda_Python_TensorFlow](../Images/figure_notebook_01_python.png ) \n"
   ]
  },
  {
   "cell_type": "markdown",
   "metadata": {},
   "source": [
    "## 1. Case Introduction (Chris)\n",
    "\n",
    "**Background Knowledge**:\n",
    "\n",
    "- Australian Energy Market Operator ([AEMO](https://aemo.com.au)) is a not-for-profit organisation partly owned by federal and state governments, with members from electricity and gas generation, transmission, distribution, retail and resources businesses across Australia. \n",
    "- According to AMEO 2019 annual report, their target is to achieve `short-term` and `long-term electricity demand forecast accuracy` within 3% and 5% of actual peak demand, respectively. \n",
    "\n",
    "**Data Analysis and Machine Learning Task**:  built a demand predictive system with AEMO dataset.\n",
    " \n",
    "**Knowledge Requirments**:\n",
    "- Basic Programming knowledge of Python and Related Programming tools.\n",
    "- Basic Statistic，Linear algebra, Machine Learing and Neural Networks. \n",
    " \n",
    "<div class=\"alert alert-info\"><h4>Related work and technology review</h4><p> The reviewing and researching section are not included in this tutorial, but it is very important for real data analysis work. One should always gather more research background knowledges on the topic.\n",
    "Our exemplar is just for practice purposes, thus this step is omitted due to the time limit.</p></div>\n"
   ]
  },
  {
   "cell_type": "markdown",
   "metadata": {},
   "source": [
    "## 2. Data Exploration (Srimal)\n",
    "\n",
    "### 2.01. Data Explaination: aggregated price and demand data\n",
    "\n",
    "The attached [data files](../Data/raw) provide price and demand data by region, cumulated by month. They are in simple CSV format and the data in them can be easily graphed using standard desktop applications. \n",
    "\n",
    "According to AEMO, the data dates back to the start of the NEM, 13 December 1998. Historical data is updated and extended by automatic processes at the end of each day. Price data is subject to review and occasional adjustment by the end of the next business day, in accordance with National Electricity Rule 3.8.1(c) and the Over Constrained Dispatch procedure. Prices become final on the second business day of the following month.\n",
    "\n",
    "Data format:\n",
    "\n",
    "| REGION | SETTLEMENTDATE      | TOTALDEMAND | RRP   | PERIODTYPE |\n",
    "| ------ | ------------------- | ----------- | ----- | ---------- |\n",
    "| ...    | ...                 | ...         | ...   | ...        |\n",
    "| VIC1   | 2018/01/01 00:30:00 | 4251.18     | 92.46 | TRADE      |\n",
    "| VIC1   | 2018/01/01 01:00:00 | 4092.53     | 87.62 | TRADE      |\n",
    "| VIC1   | 2018/01/01 01:30:00 | 3958.95     | 73.08 | TRADE      |\n",
    "| ...    | ...                 | ...         | ...   | ...        |\n",
    "\n",
    "More information, please visit: [https://aemo.com.au/](https://aemo.com.au/energy-systems/electricity/national-electricity-market-nem/data-nem/aggregated-data)\n",
    "\n",
    "\n"
   ]
  },
  {
   "cell_type": "markdown",
   "metadata": {},
   "source": [
    "### 2.02. Read one single file, check the data type and shape"
   ]
  },
  {
   "cell_type": "code",
   "execution_count": 1,
   "metadata": {
    "ExecuteTime": {
     "end_time": "2020-05-27T13:38:05.225949Z",
     "start_time": "2020-05-27T13:38:04.379037Z"
    }
   },
   "outputs": [
    {
     "name": "stdout",
     "output_type": "stream",
     "text": [
      "<class 'pandas.core.frame.DataFrame'>\n",
      "(1488, 5)\n"
     ]
    }
   ],
   "source": [
    "import pandas as pd \n",
    "df_csv = pd.read_csv('../Data/raw/PRICE_AND_DEMAND_201912_VIC1.csv')\n",
    "print(type(df_csv)) # Show the df_csv data type\n",
    "print(df_csv.shape) # check the df_csv table size"
   ]
  },
  {
   "cell_type": "markdown",
   "metadata": {},
   "source": [
    "### 2.03. Review the head and tail rows: understand the basic format and information of each column (variables)"
   ]
  },
  {
   "cell_type": "code",
   "execution_count": 2,
   "metadata": {
    "ExecuteTime": {
     "end_time": "2020-05-27T13:38:05.257949Z",
     "start_time": "2020-05-27T13:38:05.227950Z"
    }
   },
   "outputs": [
    {
     "data": {
      "text/html": [
       "<div>\n",
       "<style scoped>\n",
       "    .dataframe tbody tr th:only-of-type {\n",
       "        vertical-align: middle;\n",
       "    }\n",
       "\n",
       "    .dataframe tbody tr th {\n",
       "        vertical-align: top;\n",
       "    }\n",
       "\n",
       "    .dataframe thead th {\n",
       "        text-align: right;\n",
       "    }\n",
       "</style>\n",
       "<table border=\"1\" class=\"dataframe\">\n",
       "  <thead>\n",
       "    <tr style=\"text-align: right;\">\n",
       "      <th></th>\n",
       "      <th>REGION</th>\n",
       "      <th>SETTLEMENTDATE</th>\n",
       "      <th>TOTALDEMAND</th>\n",
       "      <th>RRP</th>\n",
       "      <th>PERIODTYPE</th>\n",
       "    </tr>\n",
       "  </thead>\n",
       "  <tbody>\n",
       "    <tr>\n",
       "      <th>0</th>\n",
       "      <td>VIC1</td>\n",
       "      <td>2019/12/01 00:30:00</td>\n",
       "      <td>4227.01</td>\n",
       "      <td>41.34</td>\n",
       "      <td>TRADE</td>\n",
       "    </tr>\n",
       "    <tr>\n",
       "      <th>1</th>\n",
       "      <td>VIC1</td>\n",
       "      <td>2019/12/01 01:00:00</td>\n",
       "      <td>4128.30</td>\n",
       "      <td>42.50</td>\n",
       "      <td>TRADE</td>\n",
       "    </tr>\n",
       "    <tr>\n",
       "      <th>2</th>\n",
       "      <td>VIC1</td>\n",
       "      <td>2019/12/01 01:30:00</td>\n",
       "      <td>3978.96</td>\n",
       "      <td>37.95</td>\n",
       "      <td>TRADE</td>\n",
       "    </tr>\n",
       "    <tr>\n",
       "      <th>3</th>\n",
       "      <td>VIC1</td>\n",
       "      <td>2019/12/01 02:00:00</td>\n",
       "      <td>3792.20</td>\n",
       "      <td>19.99</td>\n",
       "      <td>TRADE</td>\n",
       "    </tr>\n",
       "    <tr>\n",
       "      <th>4</th>\n",
       "      <td>VIC1</td>\n",
       "      <td>2019/12/01 02:30:00</td>\n",
       "      <td>3711.64</td>\n",
       "      <td>42.50</td>\n",
       "      <td>TRADE</td>\n",
       "    </tr>\n",
       "  </tbody>\n",
       "</table>\n",
       "</div>"
      ],
      "text/plain": [
       "  REGION       SETTLEMENTDATE  TOTALDEMAND    RRP PERIODTYPE\n",
       "0   VIC1  2019/12/01 00:30:00      4227.01  41.34      TRADE\n",
       "1   VIC1  2019/12/01 01:00:00      4128.30  42.50      TRADE\n",
       "2   VIC1  2019/12/01 01:30:00      3978.96  37.95      TRADE\n",
       "3   VIC1  2019/12/01 02:00:00      3792.20  19.99      TRADE\n",
       "4   VIC1  2019/12/01 02:30:00      3711.64  42.50      TRADE"
      ]
     },
     "execution_count": 2,
     "metadata": {},
     "output_type": "execute_result"
    }
   ],
   "source": [
    "df_csv.head(5) # check the first head rows"
   ]
  },
  {
   "cell_type": "code",
   "execution_count": 3,
   "metadata": {
    "ExecuteTime": {
     "end_time": "2020-05-27T13:38:05.291951Z",
     "start_time": "2020-05-27T13:38:05.259949Z"
    }
   },
   "outputs": [
    {
     "data": {
      "text/html": [
       "<div>\n",
       "<style scoped>\n",
       "    .dataframe tbody tr th:only-of-type {\n",
       "        vertical-align: middle;\n",
       "    }\n",
       "\n",
       "    .dataframe tbody tr th {\n",
       "        vertical-align: top;\n",
       "    }\n",
       "\n",
       "    .dataframe thead th {\n",
       "        text-align: right;\n",
       "    }\n",
       "</style>\n",
       "<table border=\"1\" class=\"dataframe\">\n",
       "  <thead>\n",
       "    <tr style=\"text-align: right;\">\n",
       "      <th></th>\n",
       "      <th>REGION</th>\n",
       "      <th>SETTLEMENTDATE</th>\n",
       "      <th>TOTALDEMAND</th>\n",
       "      <th>RRP</th>\n",
       "      <th>PERIODTYPE</th>\n",
       "    </tr>\n",
       "  </thead>\n",
       "  <tbody>\n",
       "    <tr>\n",
       "      <th>1483</th>\n",
       "      <td>VIC1</td>\n",
       "      <td>2019/12/31 22:00:00</td>\n",
       "      <td>4129.96</td>\n",
       "      <td>52.91</td>\n",
       "      <td>TRADE</td>\n",
       "    </tr>\n",
       "    <tr>\n",
       "      <th>1484</th>\n",
       "      <td>VIC1</td>\n",
       "      <td>2019/12/31 22:30:00</td>\n",
       "      <td>4083.66</td>\n",
       "      <td>58.66</td>\n",
       "      <td>TRADE</td>\n",
       "    </tr>\n",
       "    <tr>\n",
       "      <th>1485</th>\n",
       "      <td>VIC1</td>\n",
       "      <td>2019/12/31 23:00:00</td>\n",
       "      <td>4104.95</td>\n",
       "      <td>54.36</td>\n",
       "      <td>TRADE</td>\n",
       "    </tr>\n",
       "    <tr>\n",
       "      <th>1486</th>\n",
       "      <td>VIC1</td>\n",
       "      <td>2019/12/31 23:30:00</td>\n",
       "      <td>4325.88</td>\n",
       "      <td>66.87</td>\n",
       "      <td>TRADE</td>\n",
       "    </tr>\n",
       "    <tr>\n",
       "      <th>1487</th>\n",
       "      <td>VIC1</td>\n",
       "      <td>2020/01/01 00:00:00</td>\n",
       "      <td>4372.27</td>\n",
       "      <td>85.23</td>\n",
       "      <td>TRADE</td>\n",
       "    </tr>\n",
       "  </tbody>\n",
       "</table>\n",
       "</div>"
      ],
      "text/plain": [
       "     REGION       SETTLEMENTDATE  TOTALDEMAND    RRP PERIODTYPE\n",
       "1483   VIC1  2019/12/31 22:00:00      4129.96  52.91      TRADE\n",
       "1484   VIC1  2019/12/31 22:30:00      4083.66  58.66      TRADE\n",
       "1485   VIC1  2019/12/31 23:00:00      4104.95  54.36      TRADE\n",
       "1486   VIC1  2019/12/31 23:30:00      4325.88  66.87      TRADE\n",
       "1487   VIC1  2020/01/01 00:00:00      4372.27  85.23      TRADE"
      ]
     },
     "execution_count": 3,
     "metadata": {},
     "output_type": "execute_result"
    }
   ],
   "source": [
    "df_csv.tail(5) # check the tail rows"
   ]
  },
  {
   "cell_type": "markdown",
   "metadata": {},
   "source": [
    "### 2.04. Create figures of the time series data: total-demand and RRP"
   ]
  },
  {
   "cell_type": "code",
   "execution_count": 4,
   "metadata": {
    "ExecuteTime": {
     "end_time": "2020-05-27T13:38:07.442555Z",
     "start_time": "2020-05-27T13:38:05.293951Z"
    }
   },
   "outputs": [
    {
     "data": {
      "text/plain": [
       "array([<matplotlib.axes._subplots.AxesSubplot object at 0x000001F99A026E08>,\n",
       "       <matplotlib.axes._subplots.AxesSubplot object at 0x000001F99A2EDE08>],\n",
       "      dtype=object)"
      ]
     },
     "execution_count": 4,
     "metadata": {},
     "output_type": "execute_result"
    },
    {
     "data": {
      "image/png": "[encoded data removed]",
      "text/plain": [
       "<Figure size 1080x720 with 2 Axes>"
      ]
     },
     "metadata": {
      "needs_background": "light"
     },
     "output_type": "display_data"
    }
   ],
   "source": [
    "import seaborn as sns\n",
    "import matplotlib.pyplot as plt \n",
    "df_csv.plot(x=\"SETTLEMENTDATE\", y=[\"TOTALDEMAND\", \"RRP\"], figsize=(15,10), rot = 15, subplots=True)"
   ]
  },
  {
   "cell_type": "markdown",
   "metadata": {},
   "source": [
    "## 3. Data Analysis (Alex)\n",
    "\n",
    "### 3.01. Compute the basic statistic:"
   ]
  },
  {
   "cell_type": "code",
   "execution_count": 5,
   "metadata": {
    "ExecuteTime": {
     "end_time": "2020-05-27T13:38:07.469525Z",
     "start_time": "2020-05-27T13:38:07.448531Z"
    }
   },
   "outputs": [
    {
     "data": {
      "text/html": [
       "<div>\n",
       "<style scoped>\n",
       "    .dataframe tbody tr th:only-of-type {\n",
       "        vertical-align: middle;\n",
       "    }\n",
       "\n",
       "    .dataframe tbody tr th {\n",
       "        vertical-align: top;\n",
       "    }\n",
       "\n",
       "    .dataframe thead th {\n",
       "        text-align: right;\n",
       "    }\n",
       "</style>\n",
       "<table border=\"1\" class=\"dataframe\">\n",
       "  <thead>\n",
       "    <tr style=\"text-align: right;\">\n",
       "      <th></th>\n",
       "      <th>REGION</th>\n",
       "      <th>SETTLEMENTDATE</th>\n",
       "      <th>TOTALDEMAND</th>\n",
       "      <th>RRP</th>\n",
       "      <th>PERIODTYPE</th>\n",
       "    </tr>\n",
       "  </thead>\n",
       "  <tbody>\n",
       "    <tr>\n",
       "      <th>0</th>\n",
       "      <td>VIC1</td>\n",
       "      <td>2019/12/01 00:30:00</td>\n",
       "      <td>4227.01</td>\n",
       "      <td>41.34</td>\n",
       "      <td>TRADE</td>\n",
       "    </tr>\n",
       "    <tr>\n",
       "      <th>1</th>\n",
       "      <td>VIC1</td>\n",
       "      <td>2019/12/01 01:00:00</td>\n",
       "      <td>4128.30</td>\n",
       "      <td>42.50</td>\n",
       "      <td>TRADE</td>\n",
       "    </tr>\n",
       "    <tr>\n",
       "      <th>2</th>\n",
       "      <td>VIC1</td>\n",
       "      <td>2019/12/01 01:30:00</td>\n",
       "      <td>3978.96</td>\n",
       "      <td>37.95</td>\n",
       "      <td>TRADE</td>\n",
       "    </tr>\n",
       "    <tr>\n",
       "      <th>3</th>\n",
       "      <td>VIC1</td>\n",
       "      <td>2019/12/01 02:00:00</td>\n",
       "      <td>3792.20</td>\n",
       "      <td>19.99</td>\n",
       "      <td>TRADE</td>\n",
       "    </tr>\n",
       "    <tr>\n",
       "      <th>4</th>\n",
       "      <td>VIC1</td>\n",
       "      <td>2019/12/01 02:30:00</td>\n",
       "      <td>3711.64</td>\n",
       "      <td>42.50</td>\n",
       "      <td>TRADE</td>\n",
       "    </tr>\n",
       "    <tr>\n",
       "      <th>...</th>\n",
       "      <td>...</td>\n",
       "      <td>...</td>\n",
       "      <td>...</td>\n",
       "      <td>...</td>\n",
       "      <td>...</td>\n",
       "    </tr>\n",
       "    <tr>\n",
       "      <th>1483</th>\n",
       "      <td>VIC1</td>\n",
       "      <td>2019/12/31 22:00:00</td>\n",
       "      <td>4129.96</td>\n",
       "      <td>52.91</td>\n",
       "      <td>TRADE</td>\n",
       "    </tr>\n",
       "    <tr>\n",
       "      <th>1484</th>\n",
       "      <td>VIC1</td>\n",
       "      <td>2019/12/31 22:30:00</td>\n",
       "      <td>4083.66</td>\n",
       "      <td>58.66</td>\n",
       "      <td>TRADE</td>\n",
       "    </tr>\n",
       "    <tr>\n",
       "      <th>1485</th>\n",
       "      <td>VIC1</td>\n",
       "      <td>2019/12/31 23:00:00</td>\n",
       "      <td>4104.95</td>\n",
       "      <td>54.36</td>\n",
       "      <td>TRADE</td>\n",
       "    </tr>\n",
       "    <tr>\n",
       "      <th>1486</th>\n",
       "      <td>VIC1</td>\n",
       "      <td>2019/12/31 23:30:00</td>\n",
       "      <td>4325.88</td>\n",
       "      <td>66.87</td>\n",
       "      <td>TRADE</td>\n",
       "    </tr>\n",
       "    <tr>\n",
       "      <th>1487</th>\n",
       "      <td>VIC1</td>\n",
       "      <td>2020/01/01 00:00:00</td>\n",
       "      <td>4372.27</td>\n",
       "      <td>85.23</td>\n",
       "      <td>TRADE</td>\n",
       "    </tr>\n",
       "  </tbody>\n",
       "</table>\n",
       "<p>1488 rows × 5 columns</p>\n",
       "</div>"
      ],
      "text/plain": [
       "     REGION       SETTLEMENTDATE  TOTALDEMAND    RRP PERIODTYPE\n",
       "0      VIC1  2019/12/01 00:30:00      4227.01  41.34      TRADE\n",
       "1      VIC1  2019/12/01 01:00:00      4128.30  42.50      TRADE\n",
       "2      VIC1  2019/12/01 01:30:00      3978.96  37.95      TRADE\n",
       "3      VIC1  2019/12/01 02:00:00      3792.20  19.99      TRADE\n",
       "4      VIC1  2019/12/01 02:30:00      3711.64  42.50      TRADE\n",
       "...     ...                  ...          ...    ...        ...\n",
       "1483   VIC1  2019/12/31 22:00:00      4129.96  52.91      TRADE\n",
       "1484   VIC1  2019/12/31 22:30:00      4083.66  58.66      TRADE\n",
       "1485   VIC1  2019/12/31 23:00:00      4104.95  54.36      TRADE\n",
       "1486   VIC1  2019/12/31 23:30:00      4325.88  66.87      TRADE\n",
       "1487   VIC1  2020/01/01 00:00:00      4372.27  85.23      TRADE\n",
       "\n",
       "[1488 rows x 5 columns]"
      ]
     },
     "execution_count": 5,
     "metadata": {},
     "output_type": "execute_result"
    }
   ],
   "source": [
    "df_csv"
   ]
  },
  {
   "cell_type": "code",
   "execution_count": 6,
   "metadata": {
    "ExecuteTime": {
     "end_time": "2020-05-27T13:38:07.536621Z",
     "start_time": "2020-05-27T13:38:07.472526Z"
    }
   },
   "outputs": [
    {
     "data": {
      "text/html": [
       "<div>\n",
       "<style scoped>\n",
       "    .dataframe tbody tr th:only-of-type {\n",
       "        vertical-align: middle;\n",
       "    }\n",
       "\n",
       "    .dataframe tbody tr th {\n",
       "        vertical-align: top;\n",
       "    }\n",
       "\n",
       "    .dataframe thead th {\n",
       "        text-align: right;\n",
       "    }\n",
       "</style>\n",
       "<table border=\"1\" class=\"dataframe\">\n",
       "  <thead>\n",
       "    <tr style=\"text-align: right;\">\n",
       "      <th></th>\n",
       "      <th>REGION</th>\n",
       "      <th>SETTLEMENTDATE</th>\n",
       "      <th>TOTALDEMAND</th>\n",
       "      <th>RRP</th>\n",
       "      <th>PERIODTYPE</th>\n",
       "    </tr>\n",
       "  </thead>\n",
       "  <tbody>\n",
       "    <tr>\n",
       "      <th>count</th>\n",
       "      <td>1488</td>\n",
       "      <td>1488</td>\n",
       "      <td>1488.000000</td>\n",
       "      <td>1488.000000</td>\n",
       "      <td>1488</td>\n",
       "    </tr>\n",
       "    <tr>\n",
       "      <th>unique</th>\n",
       "      <td>1</td>\n",
       "      <td>1488</td>\n",
       "      <td>NaN</td>\n",
       "      <td>NaN</td>\n",
       "      <td>1</td>\n",
       "    </tr>\n",
       "    <tr>\n",
       "      <th>top</th>\n",
       "      <td>VIC1</td>\n",
       "      <td>2019/12/10 03:30:00</td>\n",
       "      <td>NaN</td>\n",
       "      <td>NaN</td>\n",
       "      <td>TRADE</td>\n",
       "    </tr>\n",
       "    <tr>\n",
       "      <th>freq</th>\n",
       "      <td>1488</td>\n",
       "      <td>1</td>\n",
       "      <td>NaN</td>\n",
       "      <td>NaN</td>\n",
       "      <td>1488</td>\n",
       "    </tr>\n",
       "    <tr>\n",
       "      <th>mean</th>\n",
       "      <td>NaN</td>\n",
       "      <td>NaN</td>\n",
       "      <td>4597.432352</td>\n",
       "      <td>61.390255</td>\n",
       "      <td>NaN</td>\n",
       "    </tr>\n",
       "    <tr>\n",
       "      <th>std</th>\n",
       "      <td>NaN</td>\n",
       "      <td>NaN</td>\n",
       "      <td>917.140417</td>\n",
       "      <td>187.406557</td>\n",
       "      <td>NaN</td>\n",
       "    </tr>\n",
       "    <tr>\n",
       "      <th>min</th>\n",
       "      <td>NaN</td>\n",
       "      <td>NaN</td>\n",
       "      <td>3136.490000</td>\n",
       "      <td>-56.000000</td>\n",
       "      <td>NaN</td>\n",
       "    </tr>\n",
       "    <tr>\n",
       "      <th>25%</th>\n",
       "      <td>NaN</td>\n",
       "      <td>NaN</td>\n",
       "      <td>4025.127500</td>\n",
       "      <td>36.735000</td>\n",
       "      <td>NaN</td>\n",
       "    </tr>\n",
       "    <tr>\n",
       "      <th>50%</th>\n",
       "      <td>NaN</td>\n",
       "      <td>NaN</td>\n",
       "      <td>4402.520000</td>\n",
       "      <td>51.690000</td>\n",
       "      <td>NaN</td>\n",
       "    </tr>\n",
       "    <tr>\n",
       "      <th>75%</th>\n",
       "      <td>NaN</td>\n",
       "      <td>NaN</td>\n",
       "      <td>4898.702500</td>\n",
       "      <td>66.005000</td>\n",
       "      <td>NaN</td>\n",
       "    </tr>\n",
       "    <tr>\n",
       "      <th>max</th>\n",
       "      <td>NaN</td>\n",
       "      <td>NaN</td>\n",
       "      <td>9113.240000</td>\n",
       "      <td>6442.900000</td>\n",
       "      <td>NaN</td>\n",
       "    </tr>\n",
       "  </tbody>\n",
       "</table>\n",
       "</div>"
      ],
      "text/plain": [
       "       REGION       SETTLEMENTDATE  TOTALDEMAND          RRP PERIODTYPE\n",
       "count    1488                 1488  1488.000000  1488.000000       1488\n",
       "unique      1                 1488          NaN          NaN          1\n",
       "top      VIC1  2019/12/10 03:30:00          NaN          NaN      TRADE\n",
       "freq     1488                    1          NaN          NaN       1488\n",
       "mean      NaN                  NaN  4597.432352    61.390255        NaN\n",
       "std       NaN                  NaN   917.140417   187.406557        NaN\n",
       "min       NaN                  NaN  3136.490000   -56.000000        NaN\n",
       "25%       NaN                  NaN  4025.127500    36.735000        NaN\n",
       "50%       NaN                  NaN  4402.520000    51.690000        NaN\n",
       "75%       NaN                  NaN  4898.702500    66.005000        NaN\n",
       "max       NaN                  NaN  9113.240000  6442.900000        NaN"
      ]
     },
     "execution_count": 6,
     "metadata": {},
     "output_type": "execute_result"
    }
   ],
   "source": [
    "df_csv.describe(include = 'all')"
   ]
  },
  {
   "cell_type": "code",
   "execution_count": 7,
   "metadata": {
    "ExecuteTime": {
     "end_time": "2020-05-27T13:38:07.567633Z",
     "start_time": "2020-05-27T13:38:07.538620Z"
    }
   },
   "outputs": [
    {
     "data": {
      "text/html": [
       "<div>\n",
       "<style scoped>\n",
       "    .dataframe tbody tr th:only-of-type {\n",
       "        vertical-align: middle;\n",
       "    }\n",
       "\n",
       "    .dataframe tbody tr th {\n",
       "        vertical-align: top;\n",
       "    }\n",
       "\n",
       "    .dataframe thead th {\n",
       "        text-align: right;\n",
       "    }\n",
       "</style>\n",
       "<table border=\"1\" class=\"dataframe\">\n",
       "  <thead>\n",
       "    <tr style=\"text-align: right;\">\n",
       "      <th></th>\n",
       "      <th>TOTALDEMAND</th>\n",
       "      <th>RRP</th>\n",
       "    </tr>\n",
       "  </thead>\n",
       "  <tbody>\n",
       "    <tr>\n",
       "      <th>count</th>\n",
       "      <td>1488.000000</td>\n",
       "      <td>1488.000000</td>\n",
       "    </tr>\n",
       "    <tr>\n",
       "      <th>mean</th>\n",
       "      <td>4597.432352</td>\n",
       "      <td>61.390255</td>\n",
       "    </tr>\n",
       "    <tr>\n",
       "      <th>std</th>\n",
       "      <td>917.140417</td>\n",
       "      <td>187.406557</td>\n",
       "    </tr>\n",
       "    <tr>\n",
       "      <th>min</th>\n",
       "      <td>3136.490000</td>\n",
       "      <td>-56.000000</td>\n",
       "    </tr>\n",
       "    <tr>\n",
       "      <th>25%</th>\n",
       "      <td>4025.127500</td>\n",
       "      <td>36.735000</td>\n",
       "    </tr>\n",
       "    <tr>\n",
       "      <th>50%</th>\n",
       "      <td>4402.520000</td>\n",
       "      <td>51.690000</td>\n",
       "    </tr>\n",
       "    <tr>\n",
       "      <th>75%</th>\n",
       "      <td>4898.702500</td>\n",
       "      <td>66.005000</td>\n",
       "    </tr>\n",
       "    <tr>\n",
       "      <th>max</th>\n",
       "      <td>9113.240000</td>\n",
       "      <td>6442.900000</td>\n",
       "    </tr>\n",
       "  </tbody>\n",
       "</table>\n",
       "</div>"
      ],
      "text/plain": [
       "       TOTALDEMAND          RRP\n",
       "count  1488.000000  1488.000000\n",
       "mean   4597.432352    61.390255\n",
       "std     917.140417   187.406557\n",
       "min    3136.490000   -56.000000\n",
       "25%    4025.127500    36.735000\n",
       "50%    4402.520000    51.690000\n",
       "75%    4898.702500    66.005000\n",
       "max    9113.240000  6442.900000"
      ]
     },
     "execution_count": 7,
     "metadata": {},
     "output_type": "execute_result"
    }
   ],
   "source": [
    "df_csv.describe()\n"
   ]
  },
  {
   "cell_type": "markdown",
   "metadata": {},
   "source": [
    "### 3.02. Draw the KDE figures \n",
    "In statistics, **kernel density estimation (KDE)** is a non-parametric way to estimate the probability density function of a random variable.\n"
   ]
  },
  {
   "cell_type": "code",
   "execution_count": 8,
   "metadata": {
    "ExecuteTime": {
     "end_time": "2020-05-27T13:38:07.817203Z",
     "start_time": "2020-05-27T13:38:07.570601Z"
    }
   },
   "outputs": [
    {
     "data": {
      "text/plain": [
       "<matplotlib.axes._subplots.AxesSubplot at 0x1f99a3f8a48>"
      ]
     },
     "execution_count": 8,
     "metadata": {},
     "output_type": "execute_result"
    },
    {
     "data": {
      "image/png": "[encoded data removed]",
      "text/plain": [
       "<Figure size 432x288 with 1 Axes>"
      ]
     },
     "metadata": {
      "needs_background": "light"
     },
     "output_type": "display_data"
    }
   ],
   "source": [
    "df_csv[\"TOTALDEMAND\"].plot.hist()\n"
   ]
  },
  {
   "cell_type": "code",
   "execution_count": 9,
   "metadata": {
    "ExecuteTime": {
     "end_time": "2020-05-27T13:38:08.111467Z",
     "start_time": "2020-05-27T13:38:07.820723Z"
    }
   },
   "outputs": [
    {
     "data": {
      "text/plain": [
       "<matplotlib.axes._subplots.AxesSubplot at 0x1f99a486c88>"
      ]
     },
     "execution_count": 9,
     "metadata": {},
     "output_type": "execute_result"
    },
    {
     "data": {
      "image/png": "[encoded data removed]",
      "text/plain": [
       "<Figure size 432x288 with 1 Axes>"
      ]
     },
     "metadata": {
      "needs_background": "light"
     },
     "output_type": "display_data"
    }
   ],
   "source": [
    "df_csv[\"TOTALDEMAND\"].plot.kde()"
   ]
  },
  {
   "cell_type": "code",
   "execution_count": 10,
   "metadata": {
    "ExecuteTime": {
     "end_time": "2020-05-27T13:38:10.690092Z",
     "start_time": "2020-05-27T13:38:08.116968Z"
    }
   },
   "outputs": [
    {
     "data": {
      "text/plain": [
       "<matplotlib.axes._subplots.AxesSubplot at 0x1f99a4d0308>"
      ]
     },
     "execution_count": 10,
     "metadata": {},
     "output_type": "execute_result"
    },
    {
     "data": {
      "image/png": "[encoded data removed]",
      "text/plain": [
       "<Figure size 432x288 with 1 Axes>"
      ]
     },
     "metadata": {
      "needs_background": "light"
     },
     "output_type": "display_data"
    }
   ],
   "source": [
    "df_csv[\"RRP\"].plot.hist(bins=1000)"
   ]
  },
  {
   "cell_type": "code",
   "execution_count": 11,
   "metadata": {
    "ExecuteTime": {
     "end_time": "2020-05-27T13:38:11.108922Z",
     "start_time": "2020-05-27T13:38:10.692095Z"
    }
   },
   "outputs": [
    {
     "data": {
      "text/plain": [
       "<matplotlib.axes._subplots.AxesSubplot at 0x1f99b273148>"
      ]
     },
     "execution_count": 11,
     "metadata": {},
     "output_type": "execute_result"
    },
    {
     "data": {
      "image/png": "[encoded data removed]",
      "text/plain": [
       "<Figure size 432x288 with 1 Axes>"
      ]
     },
     "metadata": {
      "needs_background": "light"
     },
     "output_type": "display_data"
    }
   ],
   "source": [
    "df_csv[\"RRP\"].plot.kde()"
   ]
  },
  {
   "cell_type": "markdown",
   "metadata": {},
   "source": [
    "### 3.03. Draw scatter figure of these two variables. \n"
   ]
  },
  {
   "cell_type": "code",
   "execution_count": 12,
   "metadata": {
    "ExecuteTime": {
     "end_time": "2020-05-27T13:38:11.333989Z",
     "start_time": "2020-05-27T13:38:11.112919Z"
    }
   },
   "outputs": [
    {
     "data": {
      "text/plain": [
       "<matplotlib.axes._subplots.AxesSubplot at 0x1f99b388e88>"
      ]
     },
     "execution_count": 12,
     "metadata": {},
     "output_type": "execute_result"
    },
    {
     "data": {
      "image/png": "[encoded data removed]",
      "text/plain": [
       "<Figure size 432x432 with 1 Axes>"
      ]
     },
     "metadata": {
      "needs_background": "light"
     },
     "output_type": "display_data"
    }
   ],
   "source": [
    "df_csv.plot.scatter( x = 'TOTALDEMAND', y = 'RRP', figsize = (6, 6),  grid = True)"
   ]
  },
  {
   "cell_type": "markdown",
   "metadata": {},
   "source": [
    "### 3.04. Draw scatter figure with the KDEs\n"
   ]
  },
  {
   "cell_type": "code",
   "execution_count": 13,
   "metadata": {
    "ExecuteTime": {
     "end_time": "2020-05-27T13:38:14.803187Z",
     "start_time": "2020-05-27T13:38:11.336988Z"
    }
   },
   "outputs": [
    {
     "data": {
      "text/plain": [
       "<seaborn.axisgrid.JointGrid at 0x1f99a47b2c8>"
      ]
     },
     "execution_count": 13,
     "metadata": {},
     "output_type": "execute_result"
    },
    {
     "data": {
      "image/png": "[encoded data removed]",
      "text/plain": [
       "<Figure size 432x432 with 3 Axes>"
      ]
     },
     "metadata": {
      "needs_background": "light"
     },
     "output_type": "display_data"
    },
    {
     "data": {
      "image/png": "[encoded data removed]",
      "text/plain": [
       "<Figure size 432x432 with 3 Axes>"
      ]
     },
     "metadata": {
      "needs_background": "light"
     },
     "output_type": "display_data"
    }
   ],
   "source": [
    "import seaborn as sns\n",
    "import matplotlib.pyplot as plt \n",
    " \n",
    "sns.jointplot(x = \"TOTALDEMAND\", y = \"RRP\" , data = df_csv, kind=\"scatter\")\n",
    "sns.jointplot(x = \"TOTALDEMAND\", y = \"RRP\" , data = df_csv, kind=\"kde\")"
   ]
  },
  {
   "cell_type": "code",
   "execution_count": 14,
   "metadata": {
    "ExecuteTime": {
     "end_time": "2020-05-27T13:38:16.227549Z",
     "start_time": "2020-05-27T13:38:14.805188Z"
    }
   },
   "outputs": [
    {
     "data": {
      "image/png": "[encoded data removed]",
      "text/plain": [
       "<Figure size 360x360 with 6 Axes>"
      ]
     },
     "metadata": {
      "needs_background": "light"
     },
     "output_type": "display_data"
    }
   ],
   "source": [
    "sns.pairplot(df_csv, height=2.5);"
   ]
  },
  {
   "cell_type": "code",
   "execution_count": 15,
   "metadata": {
    "ExecuteTime": {
     "end_time": "2020-05-27T13:38:17.135671Z",
     "start_time": "2020-05-27T13:38:16.230571Z"
    }
   },
   "outputs": [
    {
     "data": {
      "text/plain": [
       "<seaborn.axisgrid.JointGrid at 0x1f99c3ff608>"
      ]
     },
     "execution_count": 15,
     "metadata": {},
     "output_type": "execute_result"
    },
    {
     "data": {
      "image/png": "[encoded data removed]",
      "text/plain": [
       "<Figure size 432x432 with 3 Axes>"
      ]
     },
     "metadata": {
      "needs_background": "light"
     },
     "output_type": "display_data"
    }
   ],
   "source": [
    "sns.jointplot(x = \"TOTALDEMAND\", y = \"RRP\" , data = df_csv, kind=\"scatter\", alpha=0.1)"
   ]
  },
  {
   "cell_type": "markdown",
   "metadata": {},
   "source": [
    "### 3.05. Data Normalization and Standardization\n",
    " \n",
    "\n",
    "Data `Normalization` or `Standardization` generally required when we are dealing with attributes on a different scale, otherwise, it may lead to a dilution in effectiveness of an important equally important attribute(on lower scale) bcause of other attribute having values on larger scale. \n",
    "In simple words, when multiple attributes are there but attributes have values on different scales, this may lead to poor data models while performing data mining operations. So they are preprocessed to bring all the attributes on the same scale or distribution.\n",
    "\n",
    "Normalization typically means rescales the values into a range of [0,1] or [-1, 1]. \n",
    "Standardization typically means rescales data to have a mean of 0 and a standard deviation of 1 (unit variance).\n",
    "\n",
    "For example: \n",
    "- Min-Max Normalization (Rescaling).\n",
    "- z-Score Normalization (Standardization).\n",
    "\n",
    "We will apply [ scikit-learn.preprocessing-scaler](https://scikit-learn.org/stable/modules/preprocessing.html#preprocessing-scaler) to help us preprocess the data."
   ]
  },
  {
   "cell_type": "code",
   "execution_count": 16,
   "metadata": {
    "ExecuteTime": {
     "end_time": "2020-05-27T13:38:17.197185Z",
     "start_time": "2020-05-27T13:38:17.139162Z"
    }
   },
   "outputs": [
    {
     "name": "stdout",
     "output_type": "stream",
     "text": [
      "(1488, 1)\n"
     ]
    }
   ],
   "source": [
    "# Import the z-score function by sklearn packages\n",
    "from sklearn.preprocessing import StandardScaler\n",
    "\n",
    "# Extract the demand and price into numpy array.\n",
    "data_demand = df_csv[\"TOTALDEMAND\"].to_numpy().reshape(-1, 1)\n",
    "data_price  = df_csv[\"RRP\"].to_numpy().reshape(-1, 1)\n",
    "\n",
    "print(data_demand.shape)"
   ]
  },
  {
   "cell_type": "code",
   "execution_count": 17,
   "metadata": {
    "ExecuteTime": {
     "end_time": "2020-05-27T13:38:17.210175Z",
     "start_time": "2020-05-27T13:38:17.200170Z"
    }
   },
   "outputs": [
    {
     "name": "stdout",
     "output_type": "stream",
     "text": [
      "[4597.43235215]\n",
      "[840581.25859716]\n",
      "1488\n"
     ]
    }
   ],
   "source": [
    "# Build a scaler for demand data \n",
    "\n",
    "scaler_demand = StandardScaler() # init a scaler\n",
    "scaler_demand.fit(data_demand) # fit the data\n",
    "\n",
    "# output the basic informations\n",
    "print(scaler_demand.mean_)\n",
    "print(scaler_demand.var_)\n",
    "print(scaler_demand.n_samples_seen_)\n"
   ]
  },
  {
   "cell_type": "code",
   "execution_count": 18,
   "metadata": {
    "ExecuteTime": {
     "end_time": "2020-05-27T13:38:17.230689Z",
     "start_time": "2020-05-27T13:38:17.214168Z"
    }
   },
   "outputs": [
    {
     "name": "stdout",
     "output_type": "stream",
     "text": [
      "The real demand is 6500\n",
      "After standarlization is: [[2.07515364]]\n",
      "Inverse to the original value is [[6500.]]\n"
     ]
    }
   ],
   "source": [
    "# transfrom the demand data into standarlised format.\n",
    "X_demand = scaler_demand.transform(data_demand)\n",
    "\n",
    "# Test demand is 6500\n",
    "x_in = scaler_demand.transform([[6500]]) # becareful about the data format. \n",
    "\n",
    "print(f'The real demand is {6500}')\n",
    "print(f'After standarlization is: {x_in}')\n",
    "print(f'Inverse to the original value is {scaler_demand.inverse_transform(x_in)}')\n"
   ]
  },
  {
   "cell_type": "code",
   "execution_count": 19,
   "metadata": {
    "ExecuteTime": {
     "end_time": "2020-05-27T13:38:17.252258Z",
     "start_time": "2020-05-27T13:38:17.236187Z"
    }
   },
   "outputs": [
    {
     "name": "stdout",
     "output_type": "stream",
     "text": [
      "[61.39025538]\n",
      "[35097.61464523]\n",
      "1488\n"
     ]
    }
   ],
   "source": [
    "# repeat to the price\n",
    "scaler_price = StandardScaler()\n",
    "scaler_price.fit(data_price)\n",
    "print(scaler_price.mean_)\n",
    "print(scaler_price.var_)\n",
    "print(scaler_price.n_samples_seen_)\n",
    "\n",
    "X_price = scaler_price.transform(data_price)\n"
   ]
  },
  {
   "cell_type": "code",
   "execution_count": 20,
   "metadata": {
    "ExecuteTime": {
     "end_time": "2020-05-27T13:38:20.031763Z",
     "start_time": "2020-05-27T13:38:17.255209Z"
    }
   },
   "outputs": [
    {
     "data": {
      "text/plain": [
       "<seaborn.axisgrid.JointGrid at 0x1f99c9f1408>"
      ]
     },
     "execution_count": 20,
     "metadata": {},
     "output_type": "execute_result"
    },
    {
     "data": {
      "image/png": "[encoded data removed]",
      "text/plain": [
       "<Figure size 432x432 with 3 Axes>"
      ]
     },
     "metadata": {
      "needs_background": "light"
     },
     "output_type": "display_data"
    }
   ],
   "source": [
    "# review the data distribution\n",
    "# sns.jointplot(x = \"TOTALDEMAND\", y = \"RRP\" , data = [X_demand, X_price], kind=\"kde\")\n",
    "sns.jointplot(x = X_demand, y = X_price,  kind=\"kde\").set_axis_labels(\"Demand\",\"Price\")"
   ]
  },
  {
   "cell_type": "markdown",
   "metadata": {},
   "source": [
    "### 4. Data Preparation amd Modelling (Chris)\n",
    "\n",
    "#### 4.0. Preparing the samples\n",
    "Data preparation is the process of cleaning and transforming raw data prior to processing and analysis. It is an important step prior to processing and often involves reformatting data, making corrections to data and the combining of data sets to enrich data.\n",
    "\n",
    "**Assumption**:    \n",
    "unknown demand = function (known-demand with the past $t_d$ samples)\n",
    "- case 1: $d_t = f ([d_{t-1}, \\cdots, d_{t-t_d}]) $\n",
    "\n",
    "unknown demand = function (known-demand, known-price)\n",
    "- case 2: $d_t = f ([d_{t-1}, \\cdots, d_{t-t_d},  p_{t-1}, \\cdots, p_{t-tp}]) $\n",
    "\n",
    "**Prepare data pairs (input, output)**:\n",
    "- Convert the time series data into table format.\n",
    "- Split the data into the training and validation sets: 75% vs 25% \n",
    "- Check the distribution of the training and validation.\n",
    "\n",
    "Case 01: $ X = [d_{t-1}, \\cdots, d_{t-m}], Y = [d_t],  t_d = m. $\n",
    "\n",
    "Case 02: $ X = [d_{t-1}, \\cdots, d_{t-m}, p_{t-1}, \\cdots,  p_{t-n}], Y = [d_t], t_d = m, t_p = n. $\n",
    "\n",
    "\n",
    "**NOTE**\n",
    "We only used the historical demand record to make demand prediction in our demon, which is using the last 6 hours demand (12 records) to predict the next 0.5 hour demand (1 record), for example, use the `2018/01/01 00:30:00 - 2018/01/01 06:00:00` demand records to predict the demand at `2018/01/01 06:30:00`.\n",
    "\n",
    "- case 1: $d_t = f ([d_{t-1}, \\cdots, d_{t-t-12}]) $\n"
   ]
  },
  {
   "cell_type": "markdown",
   "metadata": {},
   "source": [
    "<div class=\"alert alert-danger\"><h4>Warning</h4><p> Data preparation is the most important step before modelling. Good data preparation allows for efficient analysis, limits errors and inaccuracies that can occur to data during processing, and makes all processed data more accessible to users. It’s also gotten easier with new tools that enable any user to cleanse and qualify data on their own.\n",
    "Data preparation is often a lengthy undertaking for data professionals or business users, but it is essential as a prerequisite to put data in context in order to turn it into insights and eliminate bias resulting from poor data quality. </p></div>"
   ]
  },
  {
   "cell_type": "markdown",
   "metadata": {},
   "source": [
    "Read and merge all the data files"
   ]
  },
  {
   "cell_type": "code",
   "execution_count": 21,
   "metadata": {
    "ExecuteTime": {
     "end_time": "2020-05-27T13:38:20.039764Z",
     "start_time": "2020-05-27T13:38:20.034763Z"
    }
   },
   "outputs": [],
   "source": [
    "import os\n",
    "import glob\n",
    "import numpy as np\n",
    "import joblib\n",
    "import pandas as pd \n",
    "import seaborn as sns\n",
    "import matplotlib.pyplot as plt \n",
    "from pathlib import Path\n",
    "from sklearn.preprocessing import StandardScaler"
   ]
  },
  {
   "cell_type": "code",
   "execution_count": 22,
   "metadata": {
    "ExecuteTime": {
     "end_time": "2020-05-27T13:38:20.437522Z",
     "start_time": "2020-05-27T13:38:20.043771Z"
    }
   },
   "outputs": [],
   "source": [
    "path =  Path(\"../Data/raw\")\n",
    "all_files = glob.glob(os.path.join(path, \"*.csv\"))\n",
    "df_csv = pd.concat((pd.read_csv(f) for f in all_files))"
   ]
  },
  {
   "cell_type": "code",
   "execution_count": 23,
   "metadata": {
    "ExecuteTime": {
     "end_time": "2020-05-27T13:38:20.474461Z",
     "start_time": "2020-05-27T13:38:20.444512Z"
    }
   },
   "outputs": [
    {
     "data": {
      "text/html": [
       "<div>\n",
       "<style scoped>\n",
       "    .dataframe tbody tr th:only-of-type {\n",
       "        vertical-align: middle;\n",
       "    }\n",
       "\n",
       "    .dataframe tbody tr th {\n",
       "        vertical-align: top;\n",
       "    }\n",
       "\n",
       "    .dataframe thead th {\n",
       "        text-align: right;\n",
       "    }\n",
       "</style>\n",
       "<table border=\"1\" class=\"dataframe\">\n",
       "  <thead>\n",
       "    <tr style=\"text-align: right;\">\n",
       "      <th></th>\n",
       "      <th>TOTALDEMAND</th>\n",
       "      <th>RRP</th>\n",
       "    </tr>\n",
       "  </thead>\n",
       "  <tbody>\n",
       "    <tr>\n",
       "      <th>count</th>\n",
       "      <td>35040.000000</td>\n",
       "      <td>35040.000000</td>\n",
       "    </tr>\n",
       "    <tr>\n",
       "      <th>mean</th>\n",
       "      <td>4932.293311</td>\n",
       "      <td>99.910524</td>\n",
       "    </tr>\n",
       "    <tr>\n",
       "      <th>std</th>\n",
       "      <td>863.693202</td>\n",
       "      <td>317.976582</td>\n",
       "    </tr>\n",
       "    <tr>\n",
       "      <th>min</th>\n",
       "      <td>3058.200000</td>\n",
       "      <td>-554.620000</td>\n",
       "    </tr>\n",
       "    <tr>\n",
       "      <th>25%</th>\n",
       "      <td>4284.952500</td>\n",
       "      <td>64.650000</td>\n",
       "    </tr>\n",
       "    <tr>\n",
       "      <th>50%</th>\n",
       "      <td>4831.930000</td>\n",
       "      <td>85.910000</td>\n",
       "    </tr>\n",
       "    <tr>\n",
       "      <th>75%</th>\n",
       "      <td>5427.075000</td>\n",
       "      <td>107.270000</td>\n",
       "    </tr>\n",
       "    <tr>\n",
       "      <th>max</th>\n",
       "      <td>9289.500000</td>\n",
       "      <td>14500.000000</td>\n",
       "    </tr>\n",
       "  </tbody>\n",
       "</table>\n",
       "</div>"
      ],
      "text/plain": [
       "        TOTALDEMAND           RRP\n",
       "count  35040.000000  35040.000000\n",
       "mean    4932.293311     99.910524\n",
       "std      863.693202    317.976582\n",
       "min     3058.200000   -554.620000\n",
       "25%     4284.952500     64.650000\n",
       "50%     4831.930000     85.910000\n",
       "75%     5427.075000    107.270000\n",
       "max     9289.500000  14500.000000"
      ]
     },
     "execution_count": 23,
     "metadata": {},
     "output_type": "execute_result"
    }
   ],
   "source": [
    "df_csv.describe()"
   ]
  },
  {
   "cell_type": "code",
   "execution_count": 24,
   "metadata": {
    "ExecuteTime": {
     "end_time": "2020-05-27T13:38:22.009954Z",
     "start_time": "2020-05-27T13:38:20.479491Z"
    }
   },
   "outputs": [
    {
     "data": {
      "image/png": "[encoded data removed]",
      "text/plain": [
       "<Figure size 360x360 with 6 Axes>"
      ]
     },
     "metadata": {
      "needs_background": "light"
     },
     "output_type": "display_data"
    }
   ],
   "source": [
    "sns.pairplot(df_csv, height=2.5);"
   ]
  },
  {
   "cell_type": "markdown",
   "metadata": {},
   "source": [
    "**Prepare some functions**"
   ]
  },
  {
   "cell_type": "code",
   "execution_count": 25,
   "metadata": {
    "ExecuteTime": {
     "end_time": "2020-05-27T13:38:22.017956Z",
     "start_time": "2020-05-27T13:38:22.011955Z"
    }
   },
   "outputs": [],
   "source": [
    "def normalise_data(df_csv):\n",
    "    \"\"\"\n",
    "    Description: normalise total-demand data\n",
    "    Input: df_csv\n",
    "    Output: \n",
    "        X: an array (time series) of normalised_demand\n",
    "    \"\"\"\n",
    "    data_demand = df_csv[\"TOTALDEMAND\"].to_numpy().reshape(-1, 1)\n",
    "    \n",
    "    scaler_demand = StandardScaler()\n",
    "    scaler_demand.fit(data_demand)\n",
    "    X = scaler_demand.transform(data_demand)\n",
    "    \n",
    "    return X, scaler_demand\n"
   ]
  },
  {
   "cell_type": "code",
   "execution_count": 26,
   "metadata": {
    "ExecuteTime": {
     "end_time": "2020-05-27T13:38:22.036956Z",
     "start_time": "2020-05-27T13:38:22.019956Z"
    }
   },
   "outputs": [],
   "source": [
    "def vec2mat(V, din, dout):\n",
    "    import numpy as np\n",
    "    \"\"\"\n",
    "    Convert the vector to matrix\n",
    "    V: input vector, shape(N,1), numpy array/ 2D Matrix\n",
    "    din:  input demensionality. datatype: integer \n",
    "    dout: output demensionality. datatype: integer\n",
    "    M: matrix with shape (N-din, din+dout)\n",
    "    \"\"\"\n",
    "    V = V.reshape(-1,1)\n",
    "    N, p = V.shape\n",
    "    din =  np.uint32(din)\n",
    "    dout = np.uint32(dout)\n",
    "    if N<din+dout or p !=1:\n",
    "        print(f\"check {din}+{dout}>={N} ?\")\n",
    "        print(f\"check {p} == 1 ?\")\n",
    "        return \"[ERROR] Check: Row din+dout <=Number and V should be column matrix\"\n",
    "    M = np.zeros([N-din-dout+1, din+dout])\n",
    "    for i in range(N-din-dout+1) :\n",
    "        M[i,:] = V[i:din+dout + i].flat # add the window to the output matrix\n",
    "    return M\n"
   ]
  },
  {
   "cell_type": "code",
   "execution_count": 27,
   "metadata": {
    "ExecuteTime": {
     "end_time": "2020-05-27T13:38:22.052481Z",
     "start_time": "2020-05-27T13:38:22.040953Z"
    }
   },
   "outputs": [],
   "source": [
    "def generate_dataset(df_csv, n_dim_in, n_dim_out, test_ratio):\n",
    "    \"\"\"\n",
    "    Description: Split training and testing data based on the input test_ratio by order. First part is assigned to train set and last part is assigned to test part.\n",
    "    Input:\n",
    "        + df_data: data in data frame format includes target in last column, features in remain columns.\n",
    "        + test_ratio\n",
    "    Output: X_train, y_train, X_test, y_test\n",
    "    \"\"\"    \n",
    "    X_demand, scaler_demand = normalise_data(df_csv)\n",
    "    # convert vector to array n_dim (number of previous demands used to predict)\n",
    "    \n",
    "    M_demand = vec2mat(X_demand, n_dim_in, n_dim_out)\n",
    "    #print(M_demand.shape)\n",
    "    n_row, n_col = M_demand.shape\n",
    "\n",
    "    X = M_demand[:,0:n_col-n_dim_out]\n",
    "    y = M_demand[:,n_col-n_dim_out:]\n",
    "\n",
    "    train_ratio = 1-test_ratio\n",
    "    n_train = int(n_row*train_ratio)\n",
    "\n",
    "    # extract train data\n",
    "    X_train = X[0:n_train][:]\n",
    "    y_train = y[0:n_train][:]\n",
    "\n",
    "    # extract test data\n",
    "    X_test = X[n_train:][:]\n",
    "    y_test = y[n_train:][:]\n",
    "\n",
    "    return X_train, y_train, X_test, y_test, scaler_demand\n"
   ]
  },
  {
   "cell_type": "code",
   "execution_count": 28,
   "metadata": {
    "ExecuteTime": {
     "end_time": "2020-05-27T13:38:22.069502Z",
     "start_time": "2020-05-27T13:38:22.054965Z"
    }
   },
   "outputs": [],
   "source": [
    "# Visualisation\n",
    "def visualise_train_test(X_train,y_train,X_test,y_test,y_pred):\n",
    "    \"\"\"\n",
    "    Description: Visualise the training, testing, and predicted data\n",
    "    \"\"\"\n",
    "    n_train = X_train.shape[0]\n",
    "    #print(n_train)\n",
    "    t = np.arange(0,n_train,1)\n",
    "    n_test = X_test.shape[0]\n",
    "    plt.figure(figsize=(20,10))\n",
    "    #plt.plot(np.arange(0,n_train,1),y_train,\"blue\",label=\"train data\")\n",
    "    plt.plot(np.arange(n_train,n_train+n_test,1),y_test,\"green\",label=\"ground truth\")\n",
    "    plt.plot(np.arange(n_train,n_train+n_test,1),y_pred,\"r--\",label=\"prediction\")\n",
    "    plt.title(\"ENERGY DEMAND PREDICTION\")\n",
    "    plt.legend(loc=0)\n",
    "    return "
   ]
  },
  {
   "cell_type": "markdown",
   "metadata": {},
   "source": [
    "**Generate the training dataset and test dataset**\n",
    "\n",
    "** Reminder** We only used the historical demand record to make demand prediction in our demon, which is 6 hours demand (12 records) to predict the next 0.5 hour (1 record), for example, use the `2018/01/01 00:30:00 - 2018/01/01 06:00:00` demand record to predict the demand at `2018/01/01 06:30:00`."
   ]
  },
  {
   "cell_type": "code",
   "execution_count": 29,
   "metadata": {
    "ExecuteTime": {
     "end_time": "2020-05-27T13:38:22.353768Z",
     "start_time": "2020-05-27T13:38:22.071486Z"
    }
   },
   "outputs": [
    {
     "name": "stdout",
     "output_type": "stream",
     "text": [
      "Training samples: (26271, 12), (26271, 1)\n",
      "Testing samples: (8757, 12), (8757, 12)\n"
     ]
    }
   ],
   "source": [
    "test_ratio = 0.25\n",
    "n_dim_in = 12 # Last 6 hours \n",
    "n_dim_out = 1 # Future 0.5 hour\n",
    "\n",
    "X_train, y_train, X_test, y_test, scaler_demand = generate_dataset(df_csv,n_dim_in,n_dim_out,test_ratio)\n",
    "\n",
    "print(f\"Training samples: {X_train.shape}, {y_train.shape}\")\n",
    "print(f\"Testing samples: {X_test.shape}, {X_test.shape}\")\n",
    " "
   ]
  },
  {
   "cell_type": "code",
   "execution_count": 30,
   "metadata": {
    "ExecuteTime": {
     "end_time": "2020-05-27T13:38:22.365646Z",
     "start_time": "2020-05-27T13:38:22.357239Z"
    }
   },
   "outputs": [
    {
     "data": {
      "text/plain": [
       "StandardScaler(copy=True, with_mean=True, with_std=True)"
      ]
     },
     "execution_count": 30,
     "metadata": {},
     "output_type": "execute_result"
    }
   ],
   "source": [
    "scaler_demand"
   ]
  },
  {
   "cell_type": "code",
   "execution_count": 31,
   "metadata": {
    "ExecuteTime": {
     "end_time": "2020-05-27T13:38:22.402675Z",
     "start_time": "2020-05-27T13:38:22.367676Z"
    }
   },
   "outputs": [],
   "source": [
    "def mean_absolute_error(y_true, y_pred): \n",
    "    # or from sklearn.metrics import mean_absolute_error.\n",
    "    y_true, y_pred = np.array(y_true), np.array(y_pred)  \n",
    "    errors = np.abs(y_true - y_pred)\n",
    "    return np.mean(errors)"
   ]
  },
  {
   "cell_type": "code",
   "execution_count": 32,
   "metadata": {
    "ExecuteTime": {
     "end_time": "2020-05-27T13:38:22.419644Z",
     "start_time": "2020-05-27T13:38:22.405680Z"
    }
   },
   "outputs": [],
   "source": [
    "def mean_absolute_percentage_error(y_true, y_pred):  # be carefully with the zero division issues!!!\n",
    "    y_true, y_pred = np.array(y_true), np.array(y_pred) # list to array\n",
    "    return np.mean(np.abs((y_true - y_pred) / y_true)) * 100"
   ]
  },
  {
   "cell_type": "code",
   "execution_count": 33,
   "metadata": {
    "ExecuteTime": {
     "end_time": "2020-05-27T13:38:22.435645Z",
     "start_time": "2020-05-27T13:38:22.422641Z"
    }
   },
   "outputs": [],
   "source": [
    "def plot_result(y_pred, y_test, scaler_demand):\n",
    "    t = np.arange(1, 100)\n",
    "    fig, ax = plt.subplots()\n",
    "    line1, = ax.plot(t, scaler_demand.inverse_transform(y_pred[t]), label='model prediction')\n",
    "    line2, = ax.plot(t, scaler_demand.inverse_transform(y_test[t]), label='real demand records')\n",
    "    plt.xlabel('sample index')\n",
    "    plt.ylabel('Elec-Demand')\n",
    "    ax.legend()\n",
    "    fig.tight_layout()\n",
    "    plt.show()"
   ]
  },
  {
   "cell_type": "markdown",
   "metadata": {},
   "source": [
    "\n",
    "\n",
    "<div class=\"alert alert-info\"><h4>General Machine Learning Workflow of Modeling:</h4>\n",
    "<p>  \n",
    "General Machine Learning Workflow of Modeling:\n",
    "\n",
    "1. prepare the data. \n",
    "2. initialize a model (model structure and algorithm).\n",
    "3. build the model (train and validation).\n",
    "4. test the model performance.\n",
    "5. save the model.\n",
    "     \n",
    "</p></div>\n",
    "\n",
    "\n"
   ]
  },
  {
   "cell_type": "markdown",
   "metadata": {},
   "source": [
    "### 4.1 Linear regression Model (LM) (Srimal)\n",
    "**Model**: LM linear regression model\n",
    "\n",
    "**Linear regression** performs the task to predict a dependent variable value (y) based on a given independent variable (x). So, this regression technique finds out a linear relationship between x (input) and y(output).\n",
    "\n",
    "<img  src=\"https://miro.medium.com/max/1280/1*fX95txC9xSwSPeP6ch2nmg.gif\" title=\"Demonstration of linear regression\"  />\n",
    "\n",
    "**Simple linear relationship:** \n",
    "y= mx + b"
   ]
  },
  {
   "cell_type": "code",
   "execution_count": 34,
   "metadata": {
    "ExecuteTime": {
     "end_time": "2020-05-27T13:38:22.581787Z",
     "start_time": "2020-05-27T13:38:22.439653Z"
    }
   },
   "outputs": [
    {
     "data": {
      "text/plain": [
       "LinearRegression(copy_X=True, fit_intercept=True, n_jobs=None, normalize=False)"
      ]
     },
     "execution_count": 34,
     "metadata": {},
     "output_type": "execute_result"
    }
   ],
   "source": [
    "from sklearn import linear_model # Required package\n",
    "model = linear_model.LinearRegression()\n",
    "model.fit(X_train,y_train)"
   ]
  },
  {
   "cell_type": "code",
   "execution_count": 35,
   "metadata": {
    "ExecuteTime": {
     "end_time": "2020-05-27T13:38:22.589788Z",
     "start_time": "2020-05-27T13:38:22.584788Z"
    }
   },
   "outputs": [],
   "source": [
    "# Testing\n",
    "y_pred = model.predict(X_test)"
   ]
  },
  {
   "cell_type": "code",
   "execution_count": 36,
   "metadata": {
    "ExecuteTime": {
     "end_time": "2020-05-27T13:38:22.626608Z",
     "start_time": "2020-05-27T13:38:22.595068Z"
    }
   },
   "outputs": [],
   "source": [
    "# visualise normalised train and test \n",
    "# visualise_train_test(scaler_demand.inverse_transform(X_train), \n",
    "#                      scaler_demand.inverse_transform(y_train), \n",
    "#                     scaler_demand.inverse_transform(X_test), \n",
    "#                 scaler_demand.inverse_transform(y_test), \n",
    "#                 scaler_demand.inverse_transform(y_pred))"
   ]
  },
  {
   "cell_type": "code",
   "execution_count": 37,
   "metadata": {
    "ExecuteTime": {
     "end_time": "2020-05-27T13:38:22.646589Z",
     "start_time": "2020-05-27T13:38:22.628589Z"
    }
   },
   "outputs": [
    {
     "name": "stdout",
     "output_type": "stream",
     "text": [
      "**************EVALUATION:**************\n",
      "Loss: Absolute error: 74.1208\n",
      "Loss: Absolute percentage error: 1.5171 % \n"
     ]
    }
   ],
   "source": [
    "# Evaluation\n",
    "print(\"**************EVALUATION:**************\")\n",
    "mean_abs_err     = mean_absolute_error(scaler_demand.inverse_transform(y_test),scaler_demand.inverse_transform(y_pred))\n",
    "mean_abs_per_err = mean_absolute_percentage_error(scaler_demand.inverse_transform(y_test),scaler_demand.inverse_transform(y_pred))\n",
    "print(\"Loss: Absolute error: %.4f\" % mean_abs_err)\n",
    "print(\"Loss: Absolute percentage error: %.4f %% \" % mean_abs_per_err)\n"
   ]
  },
  {
   "cell_type": "code",
   "execution_count": 38,
   "metadata": {
    "ExecuteTime": {
     "end_time": "2020-05-27T13:38:22.976153Z",
     "start_time": "2020-05-27T13:38:22.649097Z"
    }
   },
   "outputs": [
    {
     "data": {
      "image/png": "[encoded data removed]",
      "text/plain": [
       "<Figure size 432x288 with 1 Axes>"
      ]
     },
     "metadata": {
      "needs_background": "light"
     },
     "output_type": "display_data"
    }
   ],
   "source": [
    "plot_result(y_pred, y_test, scaler_demand)"
   ]
  },
  {
   "cell_type": "code",
   "execution_count": 39,
   "metadata": {
    "ExecuteTime": {
     "end_time": "2020-05-27T13:38:22.985811Z",
     "start_time": "2020-05-27T13:38:22.979154Z"
    }
   },
   "outputs": [],
   "source": [
    "# save the model to disk\n",
    "filename = './models/LM.joblib' + '.z'\n",
    "joblib.dump(model, filename )  \n",
    "del model"
   ]
  },
  {
   "cell_type": "code",
   "execution_count": 40,
   "metadata": {
    "ExecuteTime": {
     "end_time": "2020-05-27T13:38:23.008809Z",
     "start_time": "2020-05-27T13:38:22.988810Z"
    }
   },
   "outputs": [
    {
     "name": "stdout",
     "output_type": "stream",
     "text": [
      "Loss: Absolute error: 74.1208\n",
      "Loss: Absolute percentage error: 1.5171 % \n"
     ]
    }
   ],
   "source": [
    "# load the model to use\n",
    "loaded_Model = joblib.load(filename)\n",
    "y_pred = loaded_Model.predict(X_test)\n",
    "mean_abs_err     = mean_absolute_error(scaler_demand.inverse_transform(y_test),scaler_demand.inverse_transform(y_pred))\n",
    "mean_abs_per_err = mean_absolute_percentage_error(scaler_demand.inverse_transform(y_test),scaler_demand.inverse_transform(y_pred))\n",
    "print(\"Loss: Absolute error: %.4f\" % mean_abs_err)\n",
    "print(\"Loss: Absolute percentage error: %.4f %% \" % mean_abs_per_err)"
   ]
  },
  {
   "cell_type": "markdown",
   "metadata": {},
   "source": [
    "### 4.2 Multi-layer Perceptron Model (MLP) (Chris)\n",
    "**A multilayer perceptron (MLP)** is a class of feedforward artificial neural network (ANN). An MLP consists of at least three layers of nodes: an input layer, a hidden layer and an output layer. Except for the input nodes, each node is a neuron that uses a nonlinear activation function. MLP utilizes a supervised learning technique called backpropagation for training.\n",
    "\n",
    "<img src=\"https://cdn-images-1.medium.com/freeze/max/1000/1*Ne7jPeR6Vrl1f9d7pLLG8Q.jpeg?q=20\" />"
   ]
  },
  {
   "cell_type": "markdown",
   "metadata": {},
   "source": [
    "#### 4.2.1. MLP with Scikit-learn\n",
    "**Model**: MLP\n",
    "\n",
    "**Loss function**: squared-loss  (default loss function in sklearn - no customise)\n",
    "\n",
    "**Library**: py/sklearn \n",
    "\n",
    "**Reference**: https://scikit-learn.org/stable/modules/generated/sklearn.neural_network.MLPRegressor.html#sklearn.neural_network.MLPRegressor"
   ]
  },
  {
   "cell_type": "code",
   "execution_count": 41,
   "metadata": {
    "ExecuteTime": {
     "end_time": "2020-05-27T13:38:23.023808Z",
     "start_time": "2020-05-27T13:38:23.011811Z"
    }
   },
   "outputs": [],
   "source": [
    "from sklearn.neural_network import MLPRegressor\n",
    "\n",
    "# init a model\n",
    "model = MLPRegressor(hidden_layer_sizes=(50), activation='relu', solver = 'sgd',\n",
    "                                 alpha = 0.0001,\n",
    "                                 batch_size=32,\n",
    "                                 learning_rate_init=0.001,\n",
    "                                 max_iter = 1000, verbose = False,\n",
    "                                 early_stopping=True)\n"
   ]
  },
  {
   "cell_type": "code",
   "execution_count": 42,
   "metadata": {
    "ExecuteTime": {
     "end_time": "2020-05-27T13:38:23.033810Z",
     "start_time": "2020-05-27T13:38:23.025809Z"
    }
   },
   "outputs": [
    {
     "data": {
      "text/plain": [
       "MLPRegressor(activation='relu', alpha=0.0001, batch_size=32, beta_1=0.9,\n",
       "             beta_2=0.999, early_stopping=True, epsilon=1e-08,\n",
       "             hidden_layer_sizes=50, learning_rate='constant',\n",
       "             learning_rate_init=0.001, max_fun=15000, max_iter=1000,\n",
       "             momentum=0.9, n_iter_no_change=10, nesterovs_momentum=True,\n",
       "             power_t=0.5, random_state=None, shuffle=True, solver='sgd',\n",
       "             tol=0.0001, validation_fraction=0.1, verbose=False,\n",
       "             warm_start=False)"
      ]
     },
     "execution_count": 42,
     "metadata": {},
     "output_type": "execute_result"
    }
   ],
   "source": [
    "model\n"
   ]
  },
  {
   "cell_type": "markdown",
   "metadata": {},
   "source": [
    "Question: what would happen if we change hidden_layer_sizes=(50) to \n",
    "- hidden_layer_sizes=(100)\n",
    "- hidden_layer_sizes=(50, 50)"
   ]
  },
  {
   "cell_type": "code",
   "execution_count": 43,
   "metadata": {
    "ExecuteTime": {
     "end_time": "2020-05-27T13:38:37.216811Z",
     "start_time": "2020-05-27T13:38:23.036809Z"
    }
   },
   "outputs": [],
   "source": [
    "# train the model\n",
    "model.fit(X_train, y_train.ravel())\n",
    "\n",
    "# predict from trained model\n",
    "y_pred = model.predict(X_test)"
   ]
  },
  {
   "cell_type": "code",
   "execution_count": 44,
   "metadata": {
    "ExecuteTime": {
     "end_time": "2020-05-27T13:38:37.223309Z",
     "start_time": "2020-05-27T13:38:37.218813Z"
    }
   },
   "outputs": [],
   "source": [
    "# visualise_train_test(scaler_demand.inverse_transform(X_train),scaler_demand.inverse_transform(y_train),scaler_demand.inverse_transform(X_test),scaler_demand.inverse_transform(y_test),scaler_demand.inverse_transform(y_pred))"
   ]
  },
  {
   "cell_type": "code",
   "execution_count": 45,
   "metadata": {
    "ExecuteTime": {
     "end_time": "2020-05-27T13:38:37.265311Z",
     "start_time": "2020-05-27T13:38:37.226311Z"
    }
   },
   "outputs": [
    {
     "data": {
      "text/plain": [
       "(8757, 1)"
      ]
     },
     "execution_count": 45,
     "metadata": {},
     "output_type": "execute_result"
    }
   ],
   "source": [
    "y_test.shape"
   ]
  },
  {
   "cell_type": "code",
   "execution_count": 46,
   "metadata": {
    "ExecuteTime": {
     "end_time": "2020-05-27T13:38:37.285829Z",
     "start_time": "2020-05-27T13:38:37.268311Z"
    }
   },
   "outputs": [
    {
     "data": {
      "text/plain": [
       "(8757,)"
      ]
     },
     "execution_count": 46,
     "metadata": {},
     "output_type": "execute_result"
    }
   ],
   "source": [
    "y_pred.shape"
   ]
  },
  {
   "cell_type": "code",
   "execution_count": 47,
   "metadata": {
    "ExecuteTime": {
     "end_time": "2020-05-27T13:38:37.302810Z",
     "start_time": "2020-05-27T13:38:37.289315Z"
    }
   },
   "outputs": [
    {
     "name": "stdout",
     "output_type": "stream",
     "text": [
      "**************EVALUATION:**************\n",
      "Loss: Absolute error: 67.3232\n",
      "Loss: Absolute percentage error: 1.3914 % \n"
     ]
    }
   ],
   "source": [
    "print(\"**************EVALUATION:**************\")\n",
    "mean_abs_err = mean_absolute_error(scaler_demand.inverse_transform(y_test.ravel()),scaler_demand.inverse_transform(y_pred))\n",
    "mean_abs_per_err = mean_absolute_percentage_error(scaler_demand.inverse_transform(y_test.ravel()),scaler_demand.inverse_transform(y_pred))\n",
    "\n",
    "print(\"Loss: Absolute error: %.4f\" % mean_abs_err)\n",
    "print(\"Loss: Absolute percentage error: %.4f %% \" % mean_abs_per_err)\n"
   ]
  },
  {
   "cell_type": "code",
   "execution_count": 48,
   "metadata": {
    "ExecuteTime": {
     "end_time": "2020-05-27T13:38:37.324809Z",
     "start_time": "2020-05-27T13:38:37.305811Z"
    }
   },
   "outputs": [],
   "source": [
    "# save the model to disk\n",
    "filename = './models/MLP.joblib' + '.z'\n",
    "joblib.dump(model, filename)  \n",
    "\n",
    "del model"
   ]
  },
  {
   "cell_type": "code",
   "execution_count": 49,
   "metadata": {
    "ExecuteTime": {
     "end_time": "2020-05-27T13:38:37.582951Z",
     "start_time": "2020-05-27T13:38:37.327314Z"
    }
   },
   "outputs": [
    {
     "data": {
      "image/png": "[encoded data removed]",
      "text/plain": [
       "<Figure size 432x288 with 1 Axes>"
      ]
     },
     "metadata": {
      "needs_background": "light"
     },
     "output_type": "display_data"
    }
   ],
   "source": [
    "plot_result(y_pred, y_test, scaler_demand)"
   ]
  },
  {
   "cell_type": "markdown",
   "metadata": {},
   "source": [
    "#### 4.2.2 MLP with tensorflow-keras\n",
    "\n",
    "Model: MLP\n",
    "\n",
    "Library: tensorflow/keras\n",
    "\n",
    "Ref: https://www.tensorflow.org/guide/keras/train_and_evaluate"
   ]
  },
  {
   "cell_type": "code",
   "execution_count": 50,
   "metadata": {
    "ExecuteTime": {
     "end_time": "2020-05-27T13:38:47.112963Z",
     "start_time": "2020-05-27T13:38:37.585918Z"
    }
   },
   "outputs": [
    {
     "name": "stdout",
     "output_type": "stream",
     "text": [
      "Feature shape: (12,)\n",
      "Model: \"MLP\"\n",
      "_________________________________________________________________\n",
      "Layer (type)                 Output Shape              Param #   \n",
      "=================================================================\n",
      "Hidden_Layer (Dense)         (None, 50)                650       \n",
      "_________________________________________________________________\n",
      "Output_Layer (Dense)         (None, 1)                 51        \n",
      "=================================================================\n",
      "Total params: 701\n",
      "Trainable params: 701\n",
      "Non-trainable params: 0\n",
      "_________________________________________________________________\n"
     ]
    },
    {
     "data": {
      "text/plain": [
       "[<matplotlib.lines.Line2D at 0x1f9a583ccc8>]"
      ]
     },
     "execution_count": 50,
     "metadata": {},
     "output_type": "execute_result"
    },
    {
     "data": {
      "image/png": "[encoded data removed]",
      "text/plain": [
       "<Figure size 432x288 with 1 Axes>"
      ]
     },
     "metadata": {
      "needs_background": "light"
     },
     "output_type": "display_data"
    }
   ],
   "source": [
    "import tensorflow as tf\n",
    "from tensorflow import keras\n",
    "from tensorflow.keras import Sequential\n",
    "from tensorflow.keras import layers\n",
    "\n",
    "# input shape\n",
    "input_shape = (X_train.shape[1],)\n",
    "print(f'Feature shape: {input_shape}')\n",
    "\n",
    "# Create the model\n",
    "model = Sequential(name = 'MLP')\n",
    "model.add(layers.Dense(50, input_shape=input_shape, activation='relu', name = 'Hidden_Layer'))\n",
    "# model.add(layers.Dense(50, activation='relu')) # add another layer\n",
    "model.add(layers.Dense(1, name = 'Output_Layer'))\n",
    "model.summary()\n",
    "\n",
    "# Configure the model and start training\n",
    "model.compile(loss='mae', optimizer='sgd', metrics=['mae','mse'])\n",
    "\n",
    "history = model.fit(X_train, y_train, epochs=200, batch_size=1024, verbose=0)\n",
    "\n",
    "plt.plot(history.history['loss'])"
   ]
  },
  {
   "cell_type": "code",
   "execution_count": 51,
   "metadata": {
    "ExecuteTime": {
     "end_time": "2020-05-27T13:38:47.484137Z",
     "start_time": "2020-05-27T13:38:47.116924Z"
    }
   },
   "outputs": [
    {
     "name": "stdout",
     "output_type": "stream",
     "text": [
      "**************TESTING THE TRAINED MODEL**************\n"
     ]
    }
   ],
   "source": [
    "print(\"**************TESTING THE TRAINED MODEL**************\")\n",
    "# convert the shape of the output to be the same with the shape of y_test. IT IS IMPORTANT TO USE FLATTEN() function\n",
    "y_pred = model.predict(X_test)"
   ]
  },
  {
   "cell_type": "code",
   "execution_count": 52,
   "metadata": {
    "ExecuteTime": {
     "end_time": "2020-05-27T13:38:47.495133Z",
     "start_time": "2020-05-27T13:38:47.486137Z"
    }
   },
   "outputs": [
    {
     "name": "stdout",
     "output_type": "stream",
     "text": [
      "**************EVALUATION:**************\n",
      "Loss: Absolute error: 64.9560\n",
      "Loss: Absolute percentage error: 1.3338 % \n"
     ]
    }
   ],
   "source": [
    "print(\"**************EVALUATION:**************\")\n",
    "mean_abs_err = mean_absolute_error(scaler_demand.inverse_transform(y_test),scaler_demand.inverse_transform(y_pred))\n",
    "mean_abs_per_err = mean_absolute_percentage_error(scaler_demand.inverse_transform(y_test),scaler_demand.inverse_transform(y_pred))\n",
    "\n",
    "print(\"Loss: Absolute error: %.4f\" % mean_abs_err)\n",
    "print(\"Loss: Absolute percentage error: %.4f %% \" % mean_abs_per_err)"
   ]
  },
  {
   "cell_type": "code",
   "execution_count": 53,
   "metadata": {
    "ExecuteTime": {
     "end_time": "2020-05-27T13:38:47.560489Z",
     "start_time": "2020-05-27T13:38:47.497132Z"
    }
   },
   "outputs": [
    {
     "name": "stdout",
     "output_type": "stream",
     "text": [
      "**************SAVING THE TRAINED MODEL**************\n"
     ]
    }
   ],
   "source": [
    "# save the model to disk\n",
    "print(\"**************SAVING THE TRAINED MODEL**************\")\n",
    "filename = './models/MLP.TF' + '.h5'\n",
    "model.save(filename) \n",
    "del model"
   ]
  },
  {
   "cell_type": "code",
   "execution_count": 54,
   "metadata": {
    "ExecuteTime": {
     "end_time": "2020-05-27T13:38:47.816533Z",
     "start_time": "2020-05-27T13:38:47.562475Z"
    }
   },
   "outputs": [
    {
     "data": {
      "image/png": "[encoded data removed]",
      "text/plain": [
       "<Figure size 432x288 with 1 Axes>"
      ]
     },
     "metadata": {
      "needs_background": "light"
     },
     "output_type": "display_data"
    }
   ],
   "source": [
    "plot_result(y_pred, y_test, scaler_demand)"
   ]
  },
  {
   "cell_type": "markdown",
   "metadata": {},
   "source": [
    "### 4.3  Recurrent Neural Networks (RNN) (Alex)\n",
    "**Model**: RNN\n",
    "Recurrent Neural Networks (RNN) comes from the idea of feed-forwarding neural network to utlizie past information for the future passes of hidden layers. RNN transmits hidden state from the previous step for each new element of the input sequence.\n",
    "\n",
    "<img  src=\"https://miro.medium.com/max/275/1*T_ECcHZWpjn0Ki4_4BEzow.gif\" alt=\"\" title=\"\" />\n",
    "\n",
    "**Simple RNN in Keras**\n",
    "`tf.keras.layers.SimpleRNN`\n",
    "`SimpleRNN` processes batches of sequences, like all other Keras layers, not a single sequence. This means it takes inputs of shape (batch_size, timesteps, input_features), rather than (timesteps, input_features).\n",
    "**References**\n",
    "[Keras documentation](https://www.tensorflow.org/guide/keras/rnn)"
   ]
  },
  {
   "cell_type": "code",
   "execution_count": 55,
   "metadata": {
    "ExecuteTime": {
     "end_time": "2020-05-27T13:38:47.826561Z",
     "start_time": "2020-05-27T13:38:47.821031Z"
    }
   },
   "outputs": [],
   "source": [
    "import os\n",
    "import glob\n",
    "import pandas as pd \n",
    "import sklearn\n",
    "import tensorflow as tf\n",
    "import matplotlib.pyplot as plt\n",
    "from tensorflow.keras import layers"
   ]
  },
  {
   "cell_type": "code",
   "execution_count": 56,
   "metadata": {
    "ExecuteTime": {
     "end_time": "2020-05-27T13:38:47.952631Z",
     "start_time": "2020-05-27T13:38:47.829027Z"
    }
   },
   "outputs": [
    {
     "name": "stdout",
     "output_type": "stream",
     "text": [
      "Model: \"RNN\"\n",
      "_________________________________________________________________\n",
      "Layer (type)                 Output Shape              Param #   \n",
      "=================================================================\n",
      "Recurrent_Layer (SimpleRNN)  (None, 50)                3150      \n",
      "_________________________________________________________________\n",
      "Output_layer (Dense)         (None, 1)                 51        \n",
      "=================================================================\n",
      "Total params: 3,201\n",
      "Trainable params: 3,201\n",
      "Non-trainable params: 0\n",
      "_________________________________________________________________\n"
     ]
    }
   ],
   "source": [
    "\n",
    "model = tf.keras.models.Sequential(name = 'RNN')\n",
    "model.add( layers.SimpleRNN(units = 50, input_shape=(1,n_dim_in), activation=\"relu\", name = 'Recurrent_Layer'))\n",
    "# model.add( layers.Dense(50, activation=\"relu\")) \n",
    "model.add( layers.Dense(1, name = 'Output_layer'))\n",
    "model.compile(loss='mae', optimizer='adam', metrics = ['mae', 'mape', 'mse'])\n",
    "model.summary()"
   ]
  },
  {
   "cell_type": "code",
   "execution_count": 57,
   "metadata": {
    "ExecuteTime": {
     "end_time": "2020-05-27T13:38:47.963627Z",
     "start_time": "2020-05-27T13:38:47.955637Z"
    }
   },
   "outputs": [
    {
     "data": {
      "text/plain": [
       "(26271, 1, 12)"
      ]
     },
     "execution_count": 57,
     "metadata": {},
     "output_type": "execute_result"
    }
   ],
   "source": [
    "trainX = np.reshape(X_train, ( X_train.shape[0], 1, X_train.shape[1]))\n",
    "testX  = np.reshape(X_test, (X_test.shape[0], 1, X_test.shape[1]))\n",
    "trainY = y_train\n",
    "testY  = y_test\n",
    "\n",
    "trainX.shape"
   ]
  },
  {
   "cell_type": "code",
   "execution_count": 58,
   "metadata": {
    "ExecuteTime": {
     "end_time": "2020-05-27T13:38:58.921637Z",
     "start_time": "2020-05-27T13:38:47.966628Z"
    }
   },
   "outputs": [],
   "source": [
    "history = model.fit(trainX, trainY, epochs=200, batch_size=1024, verbose=0) # lower the batch_size if your RAM is small."
   ]
  },
  {
   "cell_type": "code",
   "execution_count": 59,
   "metadata": {
    "ExecuteTime": {
     "end_time": "2020-05-27T13:38:59.137211Z",
     "start_time": "2020-05-27T13:38:58.923631Z"
    }
   },
   "outputs": [
    {
     "data": {
      "text/plain": [
       "[<matplotlib.lines.Line2D at 0x1f9a4828f48>]"
      ]
     },
     "execution_count": 59,
     "metadata": {},
     "output_type": "execute_result"
    },
    {
     "data": {
      "image/png": "[encoded data removed]",
      "text/plain": [
       "<Figure size 432x288 with 1 Axes>"
      ]
     },
     "metadata": {
      "needs_background": "light"
     },
     "output_type": "display_data"
    }
   ],
   "source": [
    "# print('\\nhistory dict:', history.history)?\n",
    "plt.plot(history.history['loss'])"
   ]
  },
  {
   "cell_type": "code",
   "execution_count": 60,
   "metadata": {
    "ExecuteTime": {
     "end_time": "2020-05-27T13:38:59.511194Z",
     "start_time": "2020-05-27T13:38:59.140209Z"
    }
   },
   "outputs": [],
   "source": [
    "# predict from trained model\n",
    "y_pred = model.predict(testX) "
   ]
  },
  {
   "cell_type": "code",
   "execution_count": 61,
   "metadata": {
    "ExecuteTime": {
     "end_time": "2020-05-27T13:38:59.522649Z",
     "start_time": "2020-05-27T13:38:59.513126Z"
    }
   },
   "outputs": [
    {
     "name": "stdout",
     "output_type": "stream",
     "text": [
      "**************EVALUATION:**************\n",
      "Loss: Absolute error: 60.8033\n",
      "Loss: Absolute percentage error: 1.2561 % \n"
     ]
    }
   ],
   "source": [
    "# Evaluation\n",
    "print(\"**************EVALUATION:**************\")\n",
    "mean_abs_err     = mean_absolute_error(scaler_demand.inverse_transform(testY),scaler_demand.inverse_transform(y_pred))\n",
    "mean_abs_per_err = mean_absolute_percentage_error(scaler_demand.inverse_transform(testY),scaler_demand.inverse_transform(y_pred))\n",
    "print(\"Loss: Absolute error: %.4f\" % mean_abs_err)\n",
    "print(\"Loss: Absolute percentage error: %.4f %% \" % mean_abs_per_err)"
   ]
  },
  {
   "cell_type": "code",
   "execution_count": 62,
   "metadata": {
    "ExecuteTime": {
     "end_time": "2020-05-27T13:38:59.598207Z",
     "start_time": "2020-05-27T13:38:59.527148Z"
    }
   },
   "outputs": [],
   "source": [
    "# save the model to disk\n",
    "filename = './models/RNN.TF' + '.h5'\n",
    "model.save(filename) \n",
    "del model"
   ]
  },
  {
   "cell_type": "code",
   "execution_count": 63,
   "metadata": {
    "ExecuteTime": {
     "end_time": "2020-05-27T13:38:59.843436Z",
     "start_time": "2020-05-27T13:38:59.601205Z"
    }
   },
   "outputs": [
    {
     "data": {
      "image/png": "[encoded data removed]",
      "text/plain": [
       "<Figure size 432x288 with 1 Axes>"
      ]
     },
     "metadata": {
      "needs_background": "light"
     },
     "output_type": "display_data"
    }
   ],
   "source": [
    "plot_result(y_pred, y_test, scaler_demand)"
   ]
  },
  {
   "cell_type": "markdown",
   "metadata": {},
   "source": [
    "### 4.4 Long Short Term Memory networks (Alex)\n",
    "\n",
    "**Description**\n",
    "\n",
    "Long Short Term Memory networks (LSTM) - a special kind of RNN which are capable of learning long-term dependencies. There are three types of gates and a state within a unit.\n",
    "\n",
    "<img src=\"https://miro.medium.com/max/1668/1*yBXV9o5q7L_CvY7quJt3WQ.png\" alt=\"\" title=\"\" width=\"400\" />\n",
    "\n",
    " \n",
    "**LSTM in Keras**\n",
    "`tf.keras.layers.LSTM`\n",
    "\n",
    "**References**\n",
    "\n",
    "[Animated guide to LSTM](https://towardsdatascience.com/illustrated-guide-to-lstms-and-gru-s-a-step-by-step-explanation-44e9eb85bf21)\n",
    "<br>\n",
    "[Understanding LSTMs](https://colah.github.io/posts/2015-08-Understanding-LSTMs/)"
   ]
  },
  {
   "cell_type": "code",
   "execution_count": 64,
   "metadata": {
    "ExecuteTime": {
     "end_time": "2020-05-27T13:39:00.179556Z",
     "start_time": "2020-05-27T13:38:59.845401Z"
    }
   },
   "outputs": [
    {
     "name": "stdout",
     "output_type": "stream",
     "text": [
      "Model: \"LSTM\"\n",
      "_________________________________________________________________\n",
      "Layer (type)                 Output Shape              Param #   \n",
      "=================================================================\n",
      "LSTM_layer (LSTM)            (None, 50)                12600     \n",
      "_________________________________________________________________\n",
      "Output_layer (Dense)         (None, 1)                 51        \n",
      "=================================================================\n",
      "Total params: 12,651\n",
      "Trainable params: 12,651\n",
      "Non-trainable params: 0\n",
      "_________________________________________________________________\n"
     ]
    }
   ],
   "source": [
    "model = tf.keras.models.Sequential(name = 'LSTM')\n",
    "model.add( layers.LSTM(50, input_shape=(1, n_dim_in), name = 'LSTM_layer'))\n",
    "# model.add( layers.Dense(50, activation=\"relu\")) \n",
    "model.add( layers.Dense(1, name = 'Output_layer'))\n",
    "model.compile(loss='mae', optimizer='adam', metrics = ['mae', 'mape', 'mse'])\n",
    "model.summary()"
   ]
  },
  {
   "cell_type": "code",
   "execution_count": 65,
   "metadata": {
    "ExecuteTime": {
     "end_time": "2020-05-27T13:39:21.212357Z",
     "start_time": "2020-05-27T13:39:00.182523Z"
    }
   },
   "outputs": [],
   "source": [
    "history = model.fit(trainX, trainY, epochs= 200, batch_size=1024, verbose=0)"
   ]
  },
  {
   "cell_type": "code",
   "execution_count": 66,
   "metadata": {
    "ExecuteTime": {
     "end_time": "2020-05-27T13:39:21.468465Z",
     "start_time": "2020-05-27T13:39:21.214357Z"
    }
   },
   "outputs": [
    {
     "data": {
      "text/plain": [
       "[<matplotlib.lines.Line2D at 0x1f9ab26ab48>]"
      ]
     },
     "execution_count": 66,
     "metadata": {},
     "output_type": "execute_result"
    },
    {
     "data": {
      "image/png": "[encoded data removed]",
      "text/plain": [
       "<Figure size 432x288 with 1 Axes>"
      ]
     },
     "metadata": {
      "needs_background": "light"
     },
     "output_type": "display_data"
    }
   ],
   "source": [
    "# print('\\nhistory dict:', history.history)?\n",
    "plt.plot(history.history['loss'])"
   ]
  },
  {
   "cell_type": "code",
   "execution_count": 67,
   "metadata": {
    "ExecuteTime": {
     "end_time": "2020-05-27T13:39:22.188868Z",
     "start_time": "2020-05-27T13:39:21.471485Z"
    }
   },
   "outputs": [],
   "source": [
    "# predict from trained model\n",
    "y_pred = model.predict(testX) "
   ]
  },
  {
   "cell_type": "code",
   "execution_count": 68,
   "metadata": {
    "ExecuteTime": {
     "end_time": "2020-05-27T13:39:22.213868Z",
     "start_time": "2020-05-27T13:39:22.200863Z"
    }
   },
   "outputs": [
    {
     "name": "stdout",
     "output_type": "stream",
     "text": [
      "**************EVALUATION:**************\n",
      "Loss: Absolute error: 62.7164\n",
      "Loss: Absolute percentage error: 1.2968 % \n"
     ]
    }
   ],
   "source": [
    "# Evaluation\n",
    "print(\"**************EVALUATION:**************\")\n",
    "mean_abs_err     = mean_absolute_error(scaler_demand.inverse_transform(testY),scaler_demand.inverse_transform(y_pred))\n",
    "mean_abs_per_err = mean_absolute_percentage_error(scaler_demand.inverse_transform(testY),scaler_demand.inverse_transform(y_pred))\n",
    "print(\"Loss: Absolute error: %.4f\" % mean_abs_err)\n",
    "print(\"Loss: Absolute percentage error: %.4f %% \" % mean_abs_per_err)"
   ]
  },
  {
   "cell_type": "code",
   "execution_count": 69,
   "metadata": {
    "ExecuteTime": {
     "end_time": "2020-05-27T13:39:22.278887Z",
     "start_time": "2020-05-27T13:39:22.220866Z"
    }
   },
   "outputs": [],
   "source": [
    "# save the model to disk\n",
    "filename = './models/LSTM.TF' + '.h5'\n",
    "model.save(filename) \n",
    "del model"
   ]
  },
  {
   "cell_type": "code",
   "execution_count": 70,
   "metadata": {
    "ExecuteTime": {
     "end_time": "2020-05-27T13:39:22.530043Z",
     "start_time": "2020-05-27T13:39:22.280885Z"
    }
   },
   "outputs": [
    {
     "data": {
      "image/png": "[encoded data removed]",
      "text/plain": [
       "<Figure size 432x288 with 1 Axes>"
      ]
     },
     "metadata": {
      "needs_background": "light"
     },
     "output_type": "display_data"
    }
   ],
   "source": [
    "plot_result(y_pred, y_test, scaler_demand)"
   ]
  },
  {
   "cell_type": "markdown",
   "metadata": {
    "ExecuteTime": {
     "end_time": "2020-02-27T03:50:49.543969Z",
     "start_time": "2020-02-27T03:50:49.539937Z"
    }
   },
   "source": [
    "## Summary (Chris)\n",
    "\n",
    "ML in Data Analysis: \n",
    "\n",
    "1. preprocesing the data. \n",
    "2. initialize a model (model structure and algorithm).\n",
    "3. build the model (training and validation).\n",
    "4. test the model performance.\n",
    "5. save the model (for deployment).\n",
    "\n",
    "Think and discuss how to imporve the following models.\n",
    "- Linear Model (LM)?\n",
    "- Neural Networks (NN/MLP)?\n",
    "- Recurrent Neural Networks (RNN)?\n",
    "- Long short Memory Networks (LSTM)? \n",
    "\n",
    "What we did not cover in this demo?\n",
    "- feature engineering. \n",
    "- model regularization and selections:\n",
    "    - minimize the model structural risk. \n",
    "    - avoid overfitting.\n",
    "- cross validation.  \n",
    " "
   ]
  },
  {
   "cell_type": "markdown",
   "metadata": {},
   "source": [
    "# Challenge to be solved by you in Hackathon after the tutorial.\n",
    "\n",
    "Use the provided data to build a electricity demand predictive model with the following conditions:\n",
    "\n",
    "1. Add the `price` record (RRP) as a new input variable for the model.\n",
    "2. Document your analysis and modelling codes in jupyter notebook.\n",
    "3. Design the testing functions of your model, for example:\n",
    "\n",
    "   - data-processing function.\n",
    "   - model prediction functions.\n",
    "     - make short-term prediction: 2 hours (4 timestamps ahead).\n",
    "     - make long-term prediction: 6 hours (12 timestamps ahead).\n",
    "   - report `mean-absolute-error` and `mean-absolute-error-rate` (function already given).\n",
    "\n",
    "4. Apply cross validation method or optimization method to improve model's performance.\n",
    "5. Push your repo to your personal GitLab and then fork to Aurecon Data Science GitLab before **Wednesday morning 9:00 am AEST, 27-May-2020**.\n",
    "6. Test data for model evaluation will be released on **Wednesday morning 9:00 am AEST, 27-May-2020**.\n",
    "7. Run your pre-trained model with test data in a new jupyter notebook and push it with your results to Gitlab.\n"
   ]
  },
  {
   "cell_type": "markdown",
   "metadata": {},
   "source": [
    "### END"
   ]
  }
 ],
 "metadata": {
  "kernelspec": {
   "display_name": "Python 3.7.6 64-bit ('aurecon': conda)",
   "language": "python",
   "name": "python37664bitaureconconda4cf82f93a8bd4cd6b8c07425cbf76bc3"
  },
  "language_info": {
   "codemirror_mode": {
    "name": "ipython",
    "version": 3
   },
   "file_extension": ".py",
   "mimetype": "text/x-python",
   "name": "python",
   "nbconvert_exporter": "python",
   "pygments_lexer": "ipython3",
   "version": "3.7.6"
  },
  "varInspector": {
   "cols": {
    "lenName": 16,
    "lenType": 16,
    "lenVar": 40
   },
   "kernels_config": {
    "python": {
     "delete_cmd_postfix": "",
     "delete_cmd_prefix": "del ",
     "library": "var_list.py",
     "varRefreshCmd": "print(var_dic_list())"
    },
    "r": {
     "delete_cmd_postfix": ") ",
     "delete_cmd_prefix": "rm(",
     "library": "var_list.r",
     "varRefreshCmd": "cat(var_dic_list()) "
    }
   },
   "position": {
    "height": "245.545px",
    "left": "1021px",
    "right": "20px",
    "top": "120px",
    "width": "350px"
   },
   "types_to_exclude": [
    "module",
    "function",
    "builtin_function_or_method",
    "instance",
    "_Feature"
   ],
   "window_display": false
  }
 },
 "nbformat": 4,
 "nbformat_minor": 4
}
