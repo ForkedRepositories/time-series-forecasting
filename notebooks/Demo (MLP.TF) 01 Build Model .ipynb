{
 "cells": [
  {
   "cell_type": "markdown",
   "metadata": {},
   "source": [
    "# Step 1. Build the model\n",
    "\n",
    "\n",
    "## Step 1.1 Load the packages."
   ]
  },
  {
   "cell_type": "code",
   "execution_count": 1,
   "metadata": {
    "ExecuteTime": {
     "end_time": "2020-06-04T05:04:02.239341Z",
     "start_time": "2020-06-04T05:03:57.842918Z"
    }
   },
   "outputs": [],
   "source": [
    "%load_ext autoreload\n",
    "%autoreload 2\n",
    "# Reload all modules (except those excluded by %aimport) every time before executing the Python code typed. https://ipython.org/ipython-doc/3/config/extensions/autoreload.html\n",
    "import os\n",
    "import glob\n",
    "import joblib\n",
    "import tensorflow as tf\n",
    "import pandas as pd\n",
    "import matplotlib.pyplot as plt\n",
    "\n",
    "from pathlib import Path\n",
    "from tensorflow.keras import Sequential\n",
    "from tensorflow.keras import layers\n",
    "\n",
    "# extra functions\n",
    "from utility import generate_dataset, mean_absolute_error, mean_absolute_percentage_error, plot_result, report_results\n"
   ]
  },
  {
   "cell_type": "markdown",
   "metadata": {},
   "source": [
    "## Step 1.2 Prepare the data for training and validation"
   ]
  },
  {
   "cell_type": "code",
   "execution_count": 2,
   "metadata": {
    "ExecuteTime": {
     "end_time": "2020-06-04T05:04:05.788729Z",
     "start_time": "2020-06-04T05:04:05.600492Z"
    }
   },
   "outputs": [
    {
     "data": {
      "text/html": [
       "<div>\n",
       "<style scoped>\n",
       "    .dataframe tbody tr th:only-of-type {\n",
       "        vertical-align: middle;\n",
       "    }\n",
       "\n",
       "    .dataframe tbody tr th {\n",
       "        vertical-align: top;\n",
       "    }\n",
       "\n",
       "    .dataframe thead th {\n",
       "        text-align: right;\n",
       "    }\n",
       "</style>\n",
       "<table border=\"1\" class=\"dataframe\">\n",
       "  <thead>\n",
       "    <tr style=\"text-align: right;\">\n",
       "      <th></th>\n",
       "      <th>REGION</th>\n",
       "      <th>SETTLEMENTDATE</th>\n",
       "      <th>TOTALDEMAND</th>\n",
       "      <th>RRP</th>\n",
       "      <th>PERIODTYPE</th>\n",
       "    </tr>\n",
       "  </thead>\n",
       "  <tbody>\n",
       "    <tr>\n",
       "      <th>count</th>\n",
       "      <td>35040</td>\n",
       "      <td>35040</td>\n",
       "      <td>35040.000000</td>\n",
       "      <td>35040.000000</td>\n",
       "      <td>35040</td>\n",
       "    </tr>\n",
       "    <tr>\n",
       "      <th>unique</th>\n",
       "      <td>1</td>\n",
       "      <td>35040</td>\n",
       "      <td>NaN</td>\n",
       "      <td>NaN</td>\n",
       "      <td>1</td>\n",
       "    </tr>\n",
       "    <tr>\n",
       "      <th>top</th>\n",
       "      <td>VIC1</td>\n",
       "      <td>2019/12/12 16:30:00</td>\n",
       "      <td>NaN</td>\n",
       "      <td>NaN</td>\n",
       "      <td>TRADE</td>\n",
       "    </tr>\n",
       "    <tr>\n",
       "      <th>freq</th>\n",
       "      <td>35040</td>\n",
       "      <td>1</td>\n",
       "      <td>NaN</td>\n",
       "      <td>NaN</td>\n",
       "      <td>35040</td>\n",
       "    </tr>\n",
       "    <tr>\n",
       "      <th>mean</th>\n",
       "      <td>NaN</td>\n",
       "      <td>NaN</td>\n",
       "      <td>4932.293311</td>\n",
       "      <td>99.910524</td>\n",
       "      <td>NaN</td>\n",
       "    </tr>\n",
       "    <tr>\n",
       "      <th>std</th>\n",
       "      <td>NaN</td>\n",
       "      <td>NaN</td>\n",
       "      <td>863.693202</td>\n",
       "      <td>317.976582</td>\n",
       "      <td>NaN</td>\n",
       "    </tr>\n",
       "    <tr>\n",
       "      <th>min</th>\n",
       "      <td>NaN</td>\n",
       "      <td>NaN</td>\n",
       "      <td>3058.200000</td>\n",
       "      <td>-554.620000</td>\n",
       "      <td>NaN</td>\n",
       "    </tr>\n",
       "    <tr>\n",
       "      <th>25%</th>\n",
       "      <td>NaN</td>\n",
       "      <td>NaN</td>\n",
       "      <td>4284.952500</td>\n",
       "      <td>64.650000</td>\n",
       "      <td>NaN</td>\n",
       "    </tr>\n",
       "    <tr>\n",
       "      <th>50%</th>\n",
       "      <td>NaN</td>\n",
       "      <td>NaN</td>\n",
       "      <td>4831.930000</td>\n",
       "      <td>85.910000</td>\n",
       "      <td>NaN</td>\n",
       "    </tr>\n",
       "    <tr>\n",
       "      <th>75%</th>\n",
       "      <td>NaN</td>\n",
       "      <td>NaN</td>\n",
       "      <td>5427.075000</td>\n",
       "      <td>107.270000</td>\n",
       "      <td>NaN</td>\n",
       "    </tr>\n",
       "    <tr>\n",
       "      <th>max</th>\n",
       "      <td>NaN</td>\n",
       "      <td>NaN</td>\n",
       "      <td>9289.500000</td>\n",
       "      <td>14500.000000</td>\n",
       "      <td>NaN</td>\n",
       "    </tr>\n",
       "  </tbody>\n",
       "</table>\n",
       "</div>"
      ],
      "text/plain": [
       "       REGION       SETTLEMENTDATE   TOTALDEMAND           RRP PERIODTYPE\n",
       "count   35040                35040  35040.000000  35040.000000      35040\n",
       "unique      1                35040           NaN           NaN          1\n",
       "top      VIC1  2019/12/12 16:30:00           NaN           NaN      TRADE\n",
       "freq    35040                    1           NaN           NaN      35040\n",
       "mean      NaN                  NaN   4932.293311     99.910524        NaN\n",
       "std       NaN                  NaN    863.693202    317.976582        NaN\n",
       "min       NaN                  NaN   3058.200000   -554.620000        NaN\n",
       "25%       NaN                  NaN   4284.952500     64.650000        NaN\n",
       "50%       NaN                  NaN   4831.930000     85.910000        NaN\n",
       "75%       NaN                  NaN   5427.075000    107.270000        NaN\n",
       "max       NaN                  NaN   9289.500000  14500.000000        NaN"
      ]
     },
     "execution_count": 2,
     "metadata": {},
     "output_type": "execute_result"
    }
   ],
   "source": [
    "path = Path(\"../Data/raw/AEMO/train/\")\n",
    "all_files = glob.glob(os.path.join(path, \"*.csv\"))\n",
    "df_csv = pd.concat((pd.read_csv(f) for f in all_files))\n",
    "df_csv.describe(include = 'all')"
   ]
  },
  {
   "cell_type": "code",
   "execution_count": 3,
   "metadata": {
    "ExecuteTime": {
     "end_time": "2020-06-04T05:04:09.691226Z",
     "start_time": "2020-06-04T05:04:09.492748Z"
    }
   },
   "outputs": [],
   "source": [
    "validation_ratio = 0.25\n",
    "n_dim_in = 12\n",
    "n_dim_out = 1\n",
    "X_train, y_train, X_val, y_val, scaler_demand = generate_dataset(\n",
    "    df_csv, n_dim_in, n_dim_out, validation_ratio)"
   ]
  },
  {
   "cell_type": "code",
   "execution_count": 4,
   "metadata": {
    "ExecuteTime": {
     "end_time": "2020-06-04T05:04:10.491934Z",
     "start_time": "2020-06-04T05:04:10.443292Z"
    },
    "scrolled": true
   },
   "outputs": [
    {
     "name": "stdout",
     "output_type": "stream",
     "text": [
      "Training samples: input (26271, 12), target (26271, 1)\n",
      "Validation samples: input (8757, 12), target (8757, 1)\n"
     ]
    }
   ],
   "source": [
    "print(f'Training samples: input {X_train.shape}, target {y_train.shape}')\n",
    "print(f'Validation samples: input {X_val.shape}, target {y_val.shape}') "
   ]
  },
  {
   "cell_type": "markdown",
   "metadata": {},
   "source": [
    "## Step 1.3 initialize a model (model structure and algorithm)."
   ]
  },
  {
   "cell_type": "code",
   "execution_count": 5,
   "metadata": {
    "ExecuteTime": {
     "end_time": "2020-06-04T05:04:12.330039Z",
     "start_time": "2020-06-04T05:04:12.184845Z"
    }
   },
   "outputs": [
    {
     "name": "stdout",
     "output_type": "stream",
     "text": [
      "Model: \"MLP_Demand_Prediction_Model\"\n",
      "_________________________________________________________________\n",
      "Layer (type)                 Output Shape              Param #   \n",
      "=================================================================\n",
      "Hidden_Layer (Dense)         (None, 100)               1300      \n",
      "_________________________________________________________________\n",
      "Output_Layer (Dense)         (None, 1)                 101       \n",
      "=================================================================\n",
      "Total params: 1,401\n",
      "Trainable params: 1,401\n",
      "Non-trainable params: 0\n",
      "_________________________________________________________________\n"
     ]
    }
   ],
   "source": [
    "model = Sequential(name = 'MLP_Demand_Prediction_Model')\n",
    "model.add(layers.Dense(100, input_shape = (n_dim_in,), activation='relu', name = 'Hidden_Layer'))\n",
    "model.add(layers.Dense(n_dim_out, name ='Output_Layer'))\n",
    "model.summary()"
   ]
  },
  {
   "cell_type": "markdown",
   "metadata": {},
   "source": [
    "## Step 1.4 Build the model with validation."
   ]
  },
  {
   "cell_type": "code",
   "execution_count": 6,
   "metadata": {
    "ExecuteTime": {
     "end_time": "2020-06-04T05:04:23.820865Z",
     "start_time": "2020-06-04T05:04:14.816921Z"
    }
   },
   "outputs": [
    {
     "name": "stdout",
     "output_type": "stream",
     "text": [
      "# Fit model on training data with validtion on validation data\n",
      "# Done\n"
     ]
    }
   ],
   "source": [
    "model.compile(loss='mae', optimizer='Adam', metrics=['mae', 'mape', 'mse'])\n",
    " \n",
    "print('# Fit model on training data with validtion on validation data')\n",
    "history = model.fit(X_train, y_train,\n",
    "                    batch_size=1024,\n",
    "                    epochs=200,\n",
    "                    # We pass some validation for\n",
    "                    # monitoring validation loss and metrics\n",
    "                    # at the end of each epoch\n",
    "                    validation_data=(X_val, y_val),\n",
    "                    verbose=0)\n",
    "print('# Done')"
   ]
  },
  {
   "cell_type": "code",
   "execution_count": 7,
   "metadata": {
    "ExecuteTime": {
     "end_time": "2020-06-04T05:04:26.391065Z",
     "start_time": "2020-06-04T05:04:26.339039Z"
    }
   },
   "outputs": [
    {
     "name": "stdout",
     "output_type": "stream",
     "text": [
      "dict_keys(['loss', 'mae', 'mape', 'mse', 'val_loss', 'val_mae', 'val_mape', 'val_mse'])\n"
     ]
    }
   ],
   "source": [
    "# list all data in history\n",
    "print(history.history.keys())"
   ]
  },
  {
   "cell_type": "code",
   "execution_count": 8,
   "metadata": {
    "ExecuteTime": {
     "end_time": "2020-06-04T05:04:28.699853Z",
     "start_time": "2020-06-04T05:04:28.320002Z"
    }
   },
   "outputs": [
    {
     "data": {
      "image/png": "[encoded data removed]",
      "text/plain": [
       "<Figure size 1080x360 with 3 Axes>"
      ]
     },
     "metadata": {
      "needs_background": "light"
     },
     "output_type": "display_data"
    }
   ],
   "source": [
    "def plot_history(history):\n",
    "    # summarize history for loss\n",
    "    # Loss/MAE\n",
    "    plt.figure(figsize=(15,5))\n",
    "    plt.subplot(1, 3, 1)\n",
    "    plt.plot(history.history['loss'])\n",
    "    plt.plot(history.history['val_loss'])\n",
    "    plt.title('model loss: mae')\n",
    "    plt.ylabel('mae')\n",
    "    plt.xlabel('epoch')\n",
    "    plt.legend(['train', 'validation'], loc='upper right')\n",
    "    plt.grid(True)\n",
    "\n",
    "    # MAPE\n",
    "    plt.subplot(1, 3, 2)\n",
    "    plt.plot(history.history['mape'])\n",
    "    plt.plot(history.history['val_mape'])\n",
    "    plt.title('model loss:mape')\n",
    "    plt.ylabel('mape')\n",
    "    plt.xlabel('epoch')\n",
    "    plt.legend(['train', 'validation'], loc='upper right')\n",
    "    plt.grid(True)\n",
    "\n",
    "    # MSE\n",
    "    plt.subplot(1, 3, 3)\n",
    "    plt.plot(history.history['mse'])\n",
    "    plt.plot(history.history['val_mse'])\n",
    "    plt.title('model loss: mse')\n",
    "    plt.ylabel('mse')\n",
    "    plt.xlabel('epoch')\n",
    "    plt.legend(['train', 'validation'], loc='upper right')\n",
    "    plt.grid(True)\n",
    "    plt.show()\n",
    "    \n",
    "plot_history(history)"
   ]
  },
  {
   "cell_type": "code",
   "execution_count": 9,
   "metadata": {
    "ExecuteTime": {
     "end_time": "2020-06-04T05:04:30.748526Z",
     "start_time": "2020-06-04T05:04:30.699948Z"
    }
   },
   "outputs": [],
   "source": [
    "del model, history # delete the existing model"
   ]
  },
  {
   "cell_type": "markdown",
   "metadata": {},
   "source": [
    "## Step 1.5 Build the model with Callback functions."
   ]
  },
  {
   "cell_type": "code",
   "execution_count": 11,
   "metadata": {
    "ExecuteTime": {
     "end_time": "2020-06-04T05:05:40.479120Z",
     "start_time": "2020-06-04T05:05:30.761587Z"
    }
   },
   "outputs": [
    {
     "name": "stdout",
     "output_type": "stream",
     "text": [
      "Model: \"MLP_Demand_Prediction_Model\"\n",
      "_________________________________________________________________\n",
      "Layer (type)                 Output Shape              Param #   \n",
      "=================================================================\n",
      "Hidden_Layer (Dense)         (None, 100)               1300      \n",
      "_________________________________________________________________\n",
      "Output_Layer (Dense)         (None, 1)                 101       \n",
      "=================================================================\n",
      "Total params: 1,401\n",
      "Trainable params: 1,401\n",
      "Non-trainable params: 0\n",
      "_________________________________________________________________\n",
      "# Fit model on training data with validtion on validation data\n",
      "The model(that are considered the best) are loaded back into the model.\n",
      "# Done\n"
     ]
    }
   ],
   "source": [
    "# Init a model\n",
    "model = Sequential(name = 'MLP_Demand_Prediction_Model')\n",
    "model.add(layers.Dense(100, input_shape = (n_dim_in,), activation='relu', name = 'Hidden_Layer'))\n",
    "model.add(layers.Dense(n_dim_out, name ='Output_Layer'))\n",
    "model.summary()\n",
    "\n",
    "# Stop training when a monitored metric has stopped improving.\n",
    "earlystop_callback = tf.keras.callbacks.EarlyStopping(monitor='val_loss', patience=20)\n",
    "\n",
    "# Callback to save the Keras model or model weights at some frequency.\n",
    "checkpoint_filepath =  './models/checkpoints/weights.best.hdf5'\n",
    "model_checkpoint_callback = tf.keras.callbacks.ModelCheckpoint(\n",
    "    filepath=checkpoint_filepath,\n",
    "    save_weights_only=True, \n",
    "    monitor='val_loss',\n",
    "    mode='min',\n",
    "    save_best_only=True,\n",
    "    verbose = 0)\n",
    "\n",
    "model.compile(loss='mae', optimizer='Adam', metrics=['mae', 'mape', 'mse'])\n",
    " \n",
    "print('# Fit model on training data with validtion on validation data')\n",
    "# Model (weights) are saved at the end of every epoch, if it's the best seen so far.\n",
    "history = model.fit(X_train, y_train,\n",
    "                    batch_size=1024,\n",
    "                    epochs = 400,\n",
    "                    # We pass some validation for\n",
    "                    # monitoring validation loss and metrics\n",
    "                    # at the end of each epoch\n",
    "                    validation_data=(X_val, y_val),\n",
    "                    verbose=0,\n",
    "                    callbacks=[model_checkpoint_callback, earlystop_callback])\n",
    "\n",
    "print('The model(that are considered the best) are loaded back into the model.')\n",
    "model.load_weights(checkpoint_filepath)\n",
    "print('# Done')"
   ]
  },
  {
   "cell_type": "code",
   "execution_count": 12,
   "metadata": {
    "ExecuteTime": {
     "end_time": "2020-06-04T05:05:46.097309Z",
     "start_time": "2020-06-04T05:05:45.729135Z"
    }
   },
   "outputs": [
    {
     "data": {
      "image/png": "[encoded data removed]",
      "text/plain": [
       "<Figure size 1080x360 with 3 Axes>"
      ]
     },
     "metadata": {
      "needs_background": "light"
     },
     "output_type": "display_data"
    }
   ],
   "source": [
    "plot_history(history)"
   ]
  },
  {
   "cell_type": "markdown",
   "metadata": {},
   "source": [
    "## Step 1.6 Check the training and validation errors with real values\n",
    "\n",
    "### A. check the training results"
   ]
  },
  {
   "cell_type": "code",
   "execution_count": 13,
   "metadata": {
    "ExecuteTime": {
     "end_time": "2020-06-04T05:05:48.951319Z",
     "start_time": "2020-06-04T05:05:48.592955Z"
    }
   },
   "outputs": [
    {
     "name": "stdout",
     "output_type": "stream",
     "text": [
      "# Training results:\n",
      "[MAE ]: 55.6156\n",
      "[MAPE]: 1.1334 % \n"
     ]
    }
   ],
   "source": [
    "print(\"# Training results:\")\n",
    "y_train_pred = model.predict(X_train) \n",
    "mae_train , mape_train = report_results(y_train, y_train_pred, scaler = scaler_demand)\n",
    "print(\"[MAE ]: %.4f\"     % mae_train)\n",
    "print(\"[MAPE]: %.4f %% \" % mape_train)"
   ]
  },
  {
   "cell_type": "code",
   "execution_count": 14,
   "metadata": {
    "ExecuteTime": {
     "end_time": "2020-06-04T05:05:49.972476Z",
     "start_time": "2020-06-04T05:05:49.841979Z"
    }
   },
   "outputs": [
    {
     "name": "stdout",
     "output_type": "stream",
     "text": [
      "# Validation results:\n",
      "[MAE ]: 74.1140\n",
      "[MAPE]: 1.5116 % \n"
     ]
    }
   ],
   "source": [
    "print(\"# Validation results:\")\n",
    "y_val_pred = model.predict(X_val) \n",
    "mae_val, mape_val= report_results(y_val, y_val_pred, scaler = scaler_demand)\n",
    "print(\"[MAE ]: %.4f\"     % mae_val)\n",
    "print(\"[MAPE]: %.4f %% \" % mape_val)"
   ]
  },
  {
   "cell_type": "code",
   "execution_count": 15,
   "metadata": {
    "ExecuteTime": {
     "end_time": "2020-06-04T05:05:50.798177Z",
     "start_time": "2020-06-04T05:05:50.715991Z"
    }
   },
   "outputs": [
    {
     "name": "stdout",
     "output_type": "stream",
     "text": [
      "# Validation results:\n",
      "[MAE ]: 74.1140\n"
     ]
    }
   ],
   "source": [
    "from sklearn.metrics import mean_absolute_error\n",
    "y_true = scaler_demand.inverse_transform(y_val)\n",
    "y_pred  = scaler_demand.inverse_transform(y_val_pred)\n",
    "print(\"# Validation results:\")\n",
    "print(\"[MAE ]: %.4f\"     % mean_absolute_error(y_true, y_pred))  "
   ]
  },
  {
   "cell_type": "markdown",
   "metadata": {},
   "source": [
    "## Step 1.7 Save the model and related scaler function."
   ]
  },
  {
   "cell_type": "code",
   "execution_count": 16,
   "metadata": {
    "ExecuteTime": {
     "end_time": "2020-06-04T05:05:54.729915Z",
     "start_time": "2020-06-04T05:05:54.668934Z"
    }
   },
   "outputs": [
    {
     "data": {
      "text/plain": [
       "['./models/scaler_demand.joblib.z']"
      ]
     },
     "execution_count": 16,
     "metadata": {},
     "output_type": "execute_result"
    }
   ],
   "source": [
    "# save our MLP model\n",
    "filename = './models/MLP.demand.TF' + '.hdf5'\n",
    "model.save(filename)\n",
    "\n",
    "# save our scaler function \n",
    "filename = './models/scaler_demand.joblib' + '.z'\n",
    "joblib.dump(scaler_demand, filename)"
   ]
  },
  {
   "cell_type": "markdown",
   "metadata": {},
   "source": [
    "# End of Model Training"
   ]
  },
  {
   "cell_type": "code",
   "execution_count": null,
   "metadata": {},
   "outputs": [],
   "source": []
  }
 ],
 "metadata": {
  "kernelspec": {
   "display_name": "Python 3",
   "language": "python",
   "name": "python3"
  },
  "language_info": {
   "codemirror_mode": {
    "name": "ipython",
    "version": 3
   },
   "file_extension": ".py",
   "mimetype": "text/x-python",
   "name": "python",
   "nbconvert_exporter": "python",
   "pygments_lexer": "ipython3",
   "version": "3.7.4"
  },
  "varInspector": {
   "cols": {
    "lenName": 16,
    "lenType": 16,
    "lenVar": 40
   },
   "kernels_config": {
    "python": {
     "delete_cmd_postfix": "",
     "delete_cmd_prefix": "del ",
     "library": "var_list.py",
     "varRefreshCmd": "print(var_dic_list())"
    },
    "r": {
     "delete_cmd_postfix": ") ",
     "delete_cmd_prefix": "rm(",
     "library": "var_list.r",
     "varRefreshCmd": "cat(var_dic_list()) "
    }
   },
   "position": {
    "height": "415.4px",
    "left": "487.8px",
    "right": "20px",
    "top": "122px",
    "width": "681.44px"
   },
   "types_to_exclude": [
    "module",
    "function",
    "builtin_function_or_method",
    "instance",
    "_Feature"
   ],
   "window_display": false
  }
 },
 "nbformat": 4,
 "nbformat_minor": 4
}
